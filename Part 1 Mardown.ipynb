{
 "cells": [
  {
   "cell_type": "markdown",
   "metadata": {},
   "source": [
    "## Helpful Code"
   ]
  },
  {
   "cell_type": "markdown",
   "metadata": {},
   "source": [
    " -var1 = re.compile(regexstring)  \n",
    " -list1 = [list of strings to search]  \n",
    " -filter(var1.march,list1)"
   ]
  },
  {
   "cell_type": "markdown",
   "metadata": {},
   "source": [
    "# Part 1"
   ]
  },
  {
   "cell_type": "markdown",
   "metadata": {},
   "source": [
    "## Part 1 A - Describe the data set"
   ]
  },
  {
   "cell_type": "markdown",
   "metadata": {},
   "source": [
    "The data set consits of a tab delaminated set of two columns. Column \"0\" is titled weight, and consisit of a random interger value. Column \"1\" is titled feed and is the string \"horsebean\", \"linseed\", \"soybean\", \"sunflower\", \"meatmeal\", and \"casein\". "
   ]
  },
  {
   "cell_type": "markdown",
   "metadata": {},
   "source": [
    "## Part 1 B - Generate a plot that summarizes all of the data. "
   ]
  },
  {
   "cell_type": "code",
   "execution_count": 6,
   "metadata": {},
   "outputs": [
    {
     "ename": "ModuleNotFoundError",
     "evalue": "No module named 'plotnine'",
     "output_type": "error",
     "traceback": [
      "\u001b[1;31m---------------------------------------------------------------------------\u001b[0m",
      "\u001b[1;31mModuleNotFoundError\u001b[0m                       Traceback (most recent call last)",
      "\u001b[1;32m<ipython-input-6-48d0448d8796>\u001b[0m in \u001b[0;36m<module>\u001b[1;34m()\u001b[0m\n\u001b[0;32m      7\u001b[0m \u001b[1;32mimport\u001b[0m \u001b[0msklearn\u001b[0m\u001b[1;33m\u001b[0m\u001b[0m\n\u001b[0;32m      8\u001b[0m \u001b[1;32mimport\u001b[0m \u001b[0mscipy\u001b[0m\u001b[1;33m.\u001b[0m\u001b[0mintegrate\u001b[0m \u001b[1;32mas\u001b[0m \u001b[0mspint\u001b[0m\u001b[1;33m\u001b[0m\u001b[0m\n\u001b[1;32m----> 9\u001b[1;33m \u001b[1;32mfrom\u001b[0m \u001b[0mplotnine\u001b[0m \u001b[1;32mimport\u001b[0m \u001b[1;33m*\u001b[0m\u001b[1;33m\u001b[0m\u001b[0m\n\u001b[0m\u001b[0;32m     10\u001b[0m \u001b[1;32mfrom\u001b[0m \u001b[0mggplot\u001b[0m \u001b[1;32mimport\u001b[0m \u001b[1;33m*\u001b[0m\u001b[1;33m\u001b[0m\u001b[0m\n\u001b[0;32m     11\u001b[0m \u001b[1;32mimport\u001b[0m \u001b[0mmatplotlib\u001b[0m\u001b[1;33m.\u001b[0m\u001b[0mpyplot\u001b[0m \u001b[1;32mas\u001b[0m \u001b[0mplt\u001b[0m\u001b[1;33m\u001b[0m\u001b[0m\n",
      "\u001b[1;31mModuleNotFoundError\u001b[0m: No module named 'plotnine'"
     ]
    }
   ],
   "source": [
    "#import packages\n",
    "import os\n",
    "import numpy as np\n",
    "import pandas as pd\n",
    "import scipy\n",
    "import sklearn\n",
    "import scipy.integrate as spint\n",
    "from plotnine import *\n",
    "from ggplot import *\n",
    "import matplotlib.pyplot as plt\n",
    "from scipy.optimize import minimize\n",
    "from scipy.stats import norm\n",
    "\n",
    "#set working directory\n",
    "#os.chdir('/Users/omneelay/Desktop/Exercise12/Intro_Biocomp_ND_318_Tutorial12/')\n",
    "os.chdir('C:\\\\Users\\\\jsh\\\\OneDrive\\\\github\\\\BioComp\\\\Intro_Biocomp_ND_318_Tutorial12\\\\')\n",
    "\n",
    "#read file\n",
    "data=pd.read_csv('chickwts.txt')\n",
    "\n",
    "#PART 1\n",
    "horsebean_avg=data[['weight']].where(data[['feed']].values=='horsebean').stack().mean()\n",
    "linseed_avg=data[['weight']].where(data[['feed']].values=='linseed').stack().mean()\n",
    "soybean_avg=data[['weight']].where(data[['feed']].values=='soybean').stack().mean()\n",
    "sunflower_avg=data[['weight']].where(data[['feed']].values=='sunflower').stack().mean()\n",
    "meatmeal_avg=data[['weight']].where(data[['feed']].values=='meatmeal').stack().mean()\n",
    "casein_avg=data[['weight']].where(data[['feed']].values=='casein').stack().mean()\n",
    "\n",
    "avg_list=[horsebean_avg,linseed_avg,soybean_avg,sunflower_avg,meatmeal_avg,casein_avg]\n",
    "feed_list=[1,2,3,4,5,6]\n",
    "\n",
    "LABELS = ['horsebean', 'linseed', 'soybean', 'sunflower', 'meatmeal', 'casein']\n",
    "\n",
    "plt.bar(feed_list, avg_list, align='center')\n",
    "plt.xticks(feed_list, LABELS)\n",
    "plt.show()"
   ]
  },
  {
   "cell_type": "markdown",
   "metadata": {},
   "source": [
    "## Part 1 C state a null and alternative hypothesis for differences in chick weight when fed soybean vs. sunflower feed"
   ]
  },
  {
   "cell_type": "markdown",
   "metadata": {},
   "source": [
    "null hypothesis: There is no correlation between the seed type and weight  \n",
    "alternative hypothesis: There is a correlation between seed type and weight.  "
   ]
  },
  {
   "cell_type": "markdown",
   "metadata": {},
   "source": [
    "## Part 1 D: Test the null using a likelihood ratio test"
   ]
  },
  {
   "cell_type": "code",
   "execution_count": 7,
   "metadata": {},
   "outputs": [
    {
     "ename": "NameError",
     "evalue": "name 'minimize' is not defined",
     "output_type": "error",
     "traceback": [
      "\u001b[1;31m---------------------------------------------------------------------------\u001b[0m",
      "\u001b[1;31mNameError\u001b[0m                                 Traceback (most recent call last)",
      "\u001b[1;32m<ipython-input-7-cdd7d587a0ca>\u001b[0m in \u001b[0;36m<module>\u001b[1;34m()\u001b[0m\n\u001b[0;32m     39\u001b[0m \u001b[1;33m\u001b[0m\u001b[0m\n\u001b[0;32m     40\u001b[0m \u001b[1;31m###minimizing the nll functions null and alt. And calculating D.\u001b[0m\u001b[1;33m\u001b[0m\u001b[1;33m\u001b[0m\u001b[0m\n\u001b[1;32m---> 41\u001b[1;33m \u001b[0mfit\u001b[0m\u001b[1;33m=\u001b[0m\u001b[0mminimize\u001b[0m\u001b[1;33m(\u001b[0m\u001b[0mnllikenull\u001b[0m\u001b[1;33m,\u001b[0m\u001b[0minitialGuessnull\u001b[0m\u001b[1;33m,\u001b[0m\u001b[0mmethod\u001b[0m\u001b[1;33m=\u001b[0m\u001b[1;34m\"Nelder-Mead\"\u001b[0m\u001b[1;33m,\u001b[0m\u001b[0moptions\u001b[0m\u001b[1;33m=\u001b[0m\u001b[1;33m{\u001b[0m\u001b[1;34m'disp'\u001b[0m\u001b[1;33m:\u001b[0m \u001b[1;32mTrue\u001b[0m\u001b[1;33m}\u001b[0m\u001b[1;33m,\u001b[0m\u001b[0margs\u001b[0m\u001b[1;33m=\u001b[0m\u001b[0mpart2data\u001b[0m\u001b[1;33m)\u001b[0m\u001b[1;33m\u001b[0m\u001b[0m\n\u001b[0m\u001b[0;32m     42\u001b[0m \u001b[0mpart2_null\u001b[0m\u001b[1;33m=\u001b[0m\u001b[0mfit\u001b[0m\u001b[1;33m.\u001b[0m\u001b[0mfun\u001b[0m\u001b[1;33m\u001b[0m\u001b[0m\n\u001b[0;32m     43\u001b[0m \u001b[0mfit\u001b[0m\u001b[1;33m=\u001b[0m\u001b[0mminimize\u001b[0m\u001b[1;33m(\u001b[0m\u001b[0mnllikealt\u001b[0m\u001b[1;33m,\u001b[0m\u001b[0minitialGuessalt\u001b[0m\u001b[1;33m,\u001b[0m\u001b[0mmethod\u001b[0m\u001b[1;33m=\u001b[0m\u001b[1;34m\"Nelder-Mead\"\u001b[0m\u001b[1;33m,\u001b[0m\u001b[0moptions\u001b[0m\u001b[1;33m=\u001b[0m\u001b[1;33m{\u001b[0m\u001b[1;34m'disp'\u001b[0m\u001b[1;33m:\u001b[0m \u001b[1;32mTrue\u001b[0m\u001b[1;33m}\u001b[0m\u001b[1;33m,\u001b[0m\u001b[0margs\u001b[0m\u001b[1;33m=\u001b[0m\u001b[0mpart2data\u001b[0m\u001b[1;33m)\u001b[0m\u001b[1;33m\u001b[0m\u001b[0m\n",
      "\u001b[1;31mNameError\u001b[0m: name 'minimize' is not defined"
     ]
    }
   ],
   "source": [
    "searchfor = ['horsebean', 'linseed', 'meatmeal', 'casein', 'soybean']\n",
    "sunflowerdata = data[~data.feed.str.contains('|'.join(searchfor))]\n",
    "searchfor = ['horsebean', 'linseed', 'meatmeal', 'casein', 'sunflower']\n",
    "soybeandata=data[~data.feed.str.contains('|'.join(searchfor))]\n",
    "\n",
    "#making data frame x and y where x=0 for sunflower and x=1 for soybean\n",
    "sunflowerdata=sunflowerdata.weight\n",
    "sunflowerdata=sunflowerdata.values.tolist()\n",
    "a=[0,0,0,0,0,0,0,0,0,0,0,0]\n",
    "sunflowerdata=pd.DataFrame({'x': a, 'y': sunflowerdata})\n",
    "\n",
    "soybeandata=soybeandata.weight\n",
    "soybeandata=soybeandata.values.tolist()\n",
    "a=[1,1,1,1,1,1,1,1,1,1,1,1,1,1]\n",
    "soybeandata=pd.DataFrame({'x': a, 'y': soybeandata})\n",
    "part2data=soybeandata.append(sunflowerdata)\n",
    "\n",
    "##likelihood fuctions\n",
    "\n",
    "def nllikealt(p,obs):\n",
    "    B0=p[0]\n",
    "    B1=p[1]\n",
    "    sigma=p[2]\n",
    "    \n",
    "    expected=B0+B1*obs.x\n",
    "    nll=-1*norm(expected,sigma).logpdf(obs.y).sum()\n",
    "    return nll\n",
    "    \n",
    "def nllikenull(p,obs):\n",
    "    B0=p[0]\n",
    "    sigma=p[1]\n",
    "    \n",
    "    expected=B0\n",
    "    nll=-1*norm(expected,sigma).logpdf(obs.y).sum()\n",
    "    return nll\n",
    "    \n",
    "initialGuessnull=np.array([1,1])\n",
    "initialGuessalt=np.array([1,1,1])\n",
    "\n",
    "###minimizing the nll functions null and alt. And calculating D.\n",
    "fit=minimize(nllikenull,initialGuessnull,method=\"Nelder-Mead\",options={'disp': True},args=part2data)\n",
    "part2_null=fit.fun\n",
    "fit=minimize(nllikealt,initialGuessalt,method=\"Nelder-Mead\",options={'disp': True},args=part2data)\n",
    "part2_alt=fit.fun\n",
    "part2_D=2*(part2_null-part2_alt)\n",
    "\n",
    "##getting p value and testing for significance\n",
    "print(\"p-value part2: \",1-scipy.stats.chi2.cdf(x=part2_D,df=1),\" SIGNIFICANT\")"
   ]
  },
  {
   "cell_type": "markdown",
   "metadata": {},
   "source": [
    "## Part 1 E: Interprete the results of the likelihood ratio test"
   ]
  },
  {
   "cell_type": "markdown",
   "metadata": {
    "collapsed": true
   },
   "source": [
    "The maximum likelihood test gives a p-value of 0.000233176728693  SIGNIFICANT, indicated that the null-hypothesis does not hold true. There is a correlationship between seed type and weight. "
   ]
  },
  {
   "cell_type": "code",
   "execution_count": null,
   "metadata": {
    "collapsed": true
   },
   "outputs": [],
   "source": []
  }
 ],
 "metadata": {
  "kernelspec": {
   "display_name": "Python 3",
   "language": "python",
   "name": "python3"
  },
  "language_info": {
   "codemirror_mode": {
    "name": "ipython",
    "version": 3
   },
   "file_extension": ".py",
   "mimetype": "text/x-python",
   "name": "python",
   "nbconvert_exporter": "python",
   "pygments_lexer": "ipython3",
   "version": "3.6.3"
  }
 },
 "nbformat": 4,
 "nbformat_minor": 2
}
