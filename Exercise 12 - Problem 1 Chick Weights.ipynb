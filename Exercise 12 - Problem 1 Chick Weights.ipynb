{
 "cells": [
  {
   "cell_type": "markdown",
   "metadata": {
    "collapsed": true
   },
   "source": [
    "## Problem 1 - Chick Data"
   ]
  },
  {
   "cell_type": "markdown",
   "metadata": {},
   "source": [
    "### Part 1 - generally describe the dataset in 'chickwts.txt'\n",
    "\n",
    "\"chickwts.txt\" contains two columns; the first column is the **weight** of the chick and the second column is the type of **feed**. There are coloumn headers in the first row and the columns are delimited by a comma. There are 6 **feed** types and a total of 71 data points. "
   ]
  },
  {
   "cell_type": "markdown",
   "metadata": {},
   "source": [
    "### Part 2 - generate a plot that summarizes all of the data in 'chickwts.txt'\n",
    "\n",
    "- Basic steps:\n",
    "\n",
    "    + Import needed packages\n",
    "    \n",
    "    + Load data\n",
    "    \n",
    "    + Create plot"
   ]
  },
  {
   "cell_type": "code",
   "execution_count": 31,
   "metadata": {},
   "outputs": [],
   "source": [
    "#import necessary packages\n",
    "import numpy\n",
    "import pandas\n",
    "import scipy\n",
    "import scipy.integrate as spint\n",
    "from scipy.stats import norm\n",
    "from scipy.optimize import minimize\n",
    "from scipy.stats import chi2\n",
    "from plotnine import *"
   ]
  },
  {
   "cell_type": "code",
   "execution_count": 32,
   "metadata": {
    "collapsed": true
   },
   "outputs": [],
   "source": [
    "#load data\n",
    "chickwts = pandas.read_csv(\"chickwts.txt\",header=0,sep=\",\")"
   ]
  },
  {
   "cell_type": "code",
   "execution_count": 33,
   "metadata": {},
   "outputs": [
    {
     "data": {
      "image/png": "[encoded data removed]",
      "text/plain": [
       "<matplotlib.figure.Figure at 0xfd95da0>"
      ]
     },
     "metadata": {},
     "output_type": "display_data"
    },
    {
     "data": {
      "text/plain": [
       "<ggplot: (16426416)>"
      ]
     },
     "execution_count": 33,
     "metadata": {},
     "output_type": "execute_result"
    }
   ],
   "source": [
    "#code for plot:\n",
    "ggplot(chickwts,aes(x='feed',y='weight'))+geom_bar(stat=\"summary\",fun_y=numpy.mean)+theme_classic()"
   ]
  },
  {
   "cell_type": "markdown",
   "metadata": {},
   "source": [
    "### Part 3 - states a null and alternative hypothesis for difference in chick weight  when fed soybean vs. sunflower feed\n",
    "\n",
    "Basic steps:\n",
    "\n",
    "- Pull out only the feed types we are interested in (soybean and sunflower)"
   ]
  },
  {
   "cell_type": "code",
   "execution_count": 34,
   "metadata": {
    "collapsed": true
   },
   "outputs": [],
   "source": [
    "#Pull out only the feed types we are interested in\n",
    "Subset=chickwts.loc[chickwts.feed.isin(['soybean', 'sunflower']),:]"
   ]
  },
  {
   "cell_type": "markdown",
   "metadata": {},
   "source": [
    "- Make dataframes to use for modeling"
   ]
  },
  {
   "cell_type": "code",
   "execution_count": 35,
   "metadata": {
    "collapsed": true
   },
   "outputs": [],
   "source": [
    "#Make a dataframe to use in modeling\n",
    "SubsetFrame=pandas.DataFrame({'y':Subset.weight,'x':0})\n",
    "SubsetFrame.loc[Subset.feed=='sunflower','x']=1"
   ]
  },
  {
   "cell_type": "markdown",
   "metadata": {},
   "source": [
    "- What are the hypotheses?\n",
    "\n",
    "    + *Null hypothesis:* There is no difference in chick weight when fed soybean or sunflower feed.\n",
    "\n",
    "    + *Alternative hypothesis:* There is a significant difference in chick weight between those fed soybean feed and those fed sunflower feed."
   ]
  },
  {
   "cell_type": "markdown",
   "metadata": {},
   "source": [
    "### Part 4 - tests the null hypothesis above using a likelihood ratio test (only chicks fed soybean or sunflower feed)\n",
    "\n",
    "- Define the null model"
   ]
  },
  {
   "cell_type": "code",
   "execution_count": 36,
   "metadata": {
    "collapsed": true
   },
   "outputs": [],
   "source": [
    "def nllike_null(p_null,obs_null):\n",
    "    B0_null=p_null[0]\n",
    "    sigma_null=p_null[1]\n",
    "    expected_null=B0_null\n",
    "    nll_null=-1*norm(expected_null,sigma_null).logpdf(obs_null.y).sum()\n",
    "    return nll_null"
   ]
  },
  {
   "cell_type": "markdown",
   "metadata": {},
   "source": [
    "- Define the alternative model"
   ]
  },
  {
   "cell_type": "code",
   "execution_count": 37,
   "metadata": {
    "collapsed": true
   },
   "outputs": [],
   "source": [
    "def nllike_alt(p_alt,obs_alt):\n",
    "    B0_alt=p_alt[0]\n",
    "    B1_alt=p_alt[1]\n",
    "    sigma_alt=p_alt[2]\n",
    "    expected_alt=B0_alt+B1_alt*obs_alt.x\n",
    "    nll_alt=-1*norm(expected_alt,sigma_alt).logpdf(obs_alt.y).sum()\n",
    "    return nll_alt"
   ]
  },
  {
   "cell_type": "markdown",
   "metadata": {},
   "source": [
    "- Likelihood Ratio Tests"
   ]
  },
  {
   "cell_type": "code",
   "execution_count": 38,
   "metadata": {},
   "outputs": [
    {
     "name": "stdout",
     "output_type": "stream",
     "text": [
      "Optimization terminated successfully.\n",
      "         Current function value: 145.240592\n",
      "         Iterations: 85\n",
      "         Function evaluations: 162\n",
      "estimated parameters for null model\n",
      "[ 284.49999051   64.53691755]\n",
      "negative log likelihood for null model\n",
      "145.240592097\n"
     ]
    }
   ],
   "source": [
    "#Null model\n",
    "initialGuess_null=numpy.array([1,1])\n",
    "fit_null_SubsetFrame=minimize(nllike_null,initialGuess_null,method=\"Nelder-Mead\",options={'disp':True},args=SubsetFrame)\n",
    "print(\"estimated parameters for null model\")\n",
    "print(fit_null_SubsetFrame.x)\n",
    "print(\"negative log likelihood for null model\")\n",
    "nll_null_SubsetFrame=fit_null_SubsetFrame.fun\n",
    "print(nll_null_SubsetFrame) #prints negative log likelihood value for null model"
   ]
  },
  {
   "cell_type": "code",
   "execution_count": 39,
   "metadata": {},
   "outputs": [
    {
     "name": "stdout",
     "output_type": "stream",
     "text": [
      "Optimization terminated successfully.\n",
      "         Current function value: 138.469162\n",
      "         Iterations: 200\n",
      "         Function evaluations: 363\n",
      "estimated parameters for alternative model\n",
      "[ 246.42855057   82.48813575   49.73948886]\n",
      "negative log likelihood for alternative model\n",
      "138.469161825\n"
     ]
    }
   ],
   "source": [
    "#Alternative Model\n",
    "initialGuess_alt=numpy.array([1,1,1])\n",
    "fit_alt_SubsetFrame=minimize(nllike_alt,initialGuess_alt,method=\"Nelder-Mead\",options={'disp':True},args=SubsetFrame)\n",
    "print(\"estimated parameters for alternative model\")\n",
    "print(fit_alt_SubsetFrame.x)\n",
    "print(\"negative log likelihood for alternative model\")\n",
    "nll_alt_SubsetFrame=fit_alt_SubsetFrame.fun\n",
    "print(nll_alt_SubsetFrame) #prints negative log likelihood values"
   ]
  },
  {
   "cell_type": "markdown",
   "metadata": {},
   "source": [
    "### Part 5 - interprets the results of the likelihood ratio test"
   ]
  },
  {
   "cell_type": "markdown",
   "metadata": {},
   "source": [
    "- Calculate D score"
   ]
  },
  {
   "cell_type": "code",
   "execution_count": 40,
   "metadata": {},
   "outputs": [
    {
     "name": "stdout",
     "output_type": "stream",
     "text": [
      "D value\n",
      "13.5428605444\n"
     ]
    }
   ],
   "source": [
    "D_SubsetFrame=2*(nll_null_SubsetFrame-nll_alt_SubsetFrame)\n",
    "print(\"D value\")\n",
    "print(D_SubsetFrame)"
   ]
  },
  {
   "cell_type": "markdown",
   "metadata": {},
   "source": [
    "- Calculate p value"
   ]
  },
  {
   "cell_type": "code",
   "execution_count": 41,
   "metadata": {},
   "outputs": [
    {
     "name": "stdout",
     "output_type": "stream",
     "text": [
      "p-value\n",
      "0.000233176728695\n"
     ]
    }
   ],
   "source": [
    "p_value_SubsetFrame=1-scipy.stats.chi2.cdf(x=D_SubsetFrame,df=1)\n",
    "print(\"p-value\")\n",
    "print(p_value_SubsetFrame)"
   ]
  },
  {
   "cell_type": "markdown",
   "metadata": {},
   "source": [
    "- Make conclusions about the hypotheses from our likelihoo ratio test\n",
    "\n",
    "    + With a p-value less than 0.05, our *alternative hypothesis* was correct. *There is a significant difference in the chick weights between soybean feed and sunflower feed.*"
   ]
  }
 ],
 "metadata": {
  "kernelspec": {
   "display_name": "Python 2",
   "language": "python",
   "name": "python2"
  },
  "language_info": {
   "codemirror_mode": {
    "name": "ipython",
    "version": 2
   },
   "file_extension": ".py",
   "mimetype": "text/x-python",
   "name": "python",
   "nbconvert_exporter": "python",
   "pygments_lexer": "ipython2",
   "version": "2.7.13"
  }
 },
 "nbformat": 4,
 "nbformat_minor": 2
}
