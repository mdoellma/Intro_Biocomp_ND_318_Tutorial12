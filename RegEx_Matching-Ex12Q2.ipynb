{
 "cells": [
  {
   "cell_type": "markdown",
   "metadata": {},
   "source": [
    "### Exercise 12, Question 2\n",
    "### Melissa Stephens and Janice Love"
   ]
  },
  {
   "cell_type": "markdown",
   "metadata": {},
   "source": [
    "#### Goal: Describe the RegEx that matches each of the patterns below and why, including examples\n",
    "* Pattern 1\n",
    "    + times after noon, but before midnight when reported in 24-hour or \"military\" format (e.g. 15:30)\n",
    "* Pattern 2\n",
    "    + Genus species names expressed in the format G. species (e.g. H.sapien)\n",
    "* Pattern 3\n",
    "    + Social security numbers (e.g 389-05-4771)"
   ]
  },
  {
   "cell_type": "code",
   "execution_count": 2,
   "metadata": {
    "collapsed": true
   },
   "outputs": [],
   "source": [
    "# import packages\n",
    "import re"
   ]
  },
  {
   "cell_type": "markdown",
   "metadata": {},
   "source": [
    "### Pattern 1"
   ]
  },
  {
   "cell_type": "markdown",
   "metadata": {},
   "source": [
    "12:01pm to 11:59pm is equal to 1201 to 2359 in \"military\" time. The RegEx that catches times between 1201-2359 is as follows:(120[1-9]|12[1-5][0-9]|1[3-5][0-9]|2[0-3][0-9]?[0-5][0-9])\n",
    "    * This parses the data into ranges to avoid matching 1200 and 2400 (1201-1209, 1210-1259, 1300-1959, 2000-2359)"
   ]
  },
  {
   "cell_type": "code",
   "execution_count": 3,
   "metadata": {
    "collapsed": true
   },
   "outputs": [],
   "source": [
    "list1=['12:00','1200','1235','1600','2355','2400','0300'] #makes a list with some items to match"
   ]
  },
  {
   "cell_type": "code",
   "execution_count": 4,
   "metadata": {},
   "outputs": [],
   "source": [
    "Pat1=re.compile(r\"(120[1-9]|12[1-5][0-9]|1[3-5][0-9]|2[0-3][0-9]?[0-5][0-9])\") #compile the pattern which can be used to search and match"
   ]
  },
  {
   "cell_type": "code",
   "execution_count": 5,
   "metadata": {},
   "outputs": [
    {
     "data": {
      "text/plain": [
       "['1235', '2355']"
      ]
     },
     "execution_count": 5,
     "metadata": {},
     "output_type": "execute_result"
    }
   ],
   "source": [
    "filter(Pat1.match,list1)"
   ]
  },
  {
   "cell_type": "markdown",
   "metadata": {
    "collapsed": true
   },
   "source": [
    "### Pattern 2"
   ]
  },
  {
   "cell_type": "markdown",
   "metadata": {},
   "source": [
    "The RegEx that catches this pattern is as follows: [A-Z]{1}\\.[a-z]+\n",
    "    * This will match a single uppercase letter followed by a period and one or more lowercase letters\n"
   ]
  },
  {
   "cell_type": "code",
   "execution_count": 1,
   "metadata": {
    "collapsed": true
   },
   "outputs": [],
   "source": [
    "list2=['d.melanogaster','D.pulex', 'A.aegypti', 'Mus musculus'] # make a list with some items to match"
   ]
  },
  {
   "cell_type": "code",
   "execution_count": 8,
   "metadata": {
    "collapsed": true
   },
   "outputs": [],
   "source": [
    "Pat2=re.compile(r\"[A-Z]{1}\\.[a-z]+\") #compile the pattern which can be used to search and match"
   ]
  },
  {
   "cell_type": "code",
   "execution_count": 12,
   "metadata": {},
   "outputs": [
    {
     "data": {
      "text/plain": [
       "['D.pulex', 'A.aegypti']"
      ]
     },
     "execution_count": 12,
     "metadata": {},
     "output_type": "execute_result"
    }
   ],
   "source": [
    "filter(Pat2.match,list2) #match the list to the pattern"
   ]
  },
  {
   "cell_type": "markdown",
   "metadata": {},
   "source": [
    "### Pattern 3"
   ]
  },
  {
   "cell_type": "markdown",
   "metadata": {},
   "source": [
    "The RegEx that catches this pattern is as follows: [0-9]{3}\\-[0-9]{2}\\-[0-9]{4}\n",
    "    * This will match any three numbers followed by two numbers, then 4 numbers with a dash separating them"
   ]
  },
  {
   "cell_type": "code",
   "execution_count": 14,
   "metadata": {
    "collapsed": true
   },
   "outputs": [],
   "source": [
    "list3=['380-02-4771', '38-72-6331', '758030645', '389-05-5001'] # make a list with some items to match"
   ]
  },
  {
   "cell_type": "code",
   "execution_count": 15,
   "metadata": {
    "collapsed": true
   },
   "outputs": [],
   "source": [
    "Pat3=re.compile(r\"[0-9]{3}\\-[0-9]{2}\\-[0-9]{4}\") #compile the pattern which can be used to search and match"
   ]
  },
  {
   "cell_type": "code",
   "execution_count": 16,
   "metadata": {},
   "outputs": [
    {
     "data": {
      "text/plain": [
       "['380-02-4771', '389-05-5001']"
      ]
     },
     "execution_count": 16,
     "metadata": {},
     "output_type": "execute_result"
    }
   ],
   "source": [
    "filter(Pat3.match,list3) #match the list to the pattern"
   ]
  }
 ],
 "metadata": {
  "kernelspec": {
   "display_name": "Python 2",
   "language": "python",
   "name": "python2"
  },
  "language_info": {
   "codemirror_mode": {
    "name": "ipython",
    "version": 2
   },
   "file_extension": ".py",
   "mimetype": "text/x-python",
   "name": "python",
   "nbconvert_exporter": "python",
   "pygments_lexer": "ipython2",
   "version": "2.7.13"
  }
 },
 "nbformat": 4,
 "nbformat_minor": 2
}
