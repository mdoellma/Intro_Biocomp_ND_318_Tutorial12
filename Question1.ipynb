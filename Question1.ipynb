{
 "cells": [
  {
   "cell_type": "markdown",
   "metadata": {},
   "source": [
    "### Question 1\n",
    "#### Authors: Grant Keller and Kathleen Nicholson"
   ]
  },
  {
   "cell_type": "markdown",
   "metadata": {},
   "source": [
    "Part 1:\n",
    "\n",
    "The chickwts.txt file contains two columns \"__weight__\" and \"__feed__.\" These columns have 72 rows with the __weight__ of the __feed__ component. The __feed__ components include __horsebean__, __linseed__, __soybean__, __sunflower__, __meatmeal__, and __casein__. \n",
    "\n",
    "Part 2:\n",
    "\n",
    "Plot of data from the chickwts.txt file:"
   ]
  },
  {
   "cell_type": "code",
   "execution_count": 13,
   "metadata": {},
   "outputs": [
    {
     "data": {
      "image/png": "[encoded data removed]",
      "text/plain": [
       "<matplotlib.figure.Figure at 0xdd85860>"
      ]
     },
     "metadata": {},
     "output_type": "display_data"
    },
    {
     "name": "stdout",
     "output_type": "stream",
     "text": [
      "<ggplot: (14281101)>\n"
     ]
    }
   ],
   "source": [
    "import pandas\n",
    "from plotnine import *\n",
    "\n",
    "data=pandas.read_csv(\"chickwts.txt\",sep=',')\n",
    "plot = ggplot(data, aes(x=\"feed\", y=\"weight\"))\n",
    "print plot + geom_boxplot()"
   ]
  },
  {
   "cell_type": "markdown",
   "metadata": {},
   "source": [
    "Part 3:\n",
    "\n",
    "Statement of null and alternative hypotheses for difference in chick __weight__ when fed __soybean__ vs. __sunflower__ seed:\n",
    "\n",
    "$H_{0} = \\ B0 $\n",
    "\n",
    "\n",
    "$H_{a} = \\ B0 + B1x $\n",
    "\n",
    "\n"
   ]
  },
  {
   "cell_type": "markdown",
   "metadata": {},
   "source": [
    "Part 4:\n",
    "\n",
    "Subset the data for only __soybean__ and __sunflower__ seeds. Test the null hypothesis using a likelihood ratio test:"
   ]
  },
  {
   "cell_type": "code",
   "execution_count": 14,
   "metadata": {
    "collapsed": true
   },
   "outputs": [],
   "source": [
    "## Reads chickwts.txt, subsets the data into soybean and sunflower, and sets columns to 0 and 1 values\n",
    "chickwts = pd.read_csv(\"chickwts.txt\")\n",
    "\n",
    "chickwts = chickwts[(chickwts.feed == 'soybean') | (chickwts.feed == 'sunflower')]\n",
    "\n",
    "chickwts = chickwts.replace('soybean', 0)\n",
    "chickwts = chickwts.replace('sunflower',1)"
   ]
  },
  {
   "cell_type": "code",
   "execution_count": 15,
   "metadata": {},
   "outputs": [
    {
     "name": "stdout",
     "output_type": "stream",
     "text": [
      "Optimization terminated successfully.\n",
      "         Current function value: 54169.142402\n",
      "         Iterations: 33\n",
      "         Function evaluations: 66\n",
      "[ 284.5]\n"
     ]
    }
   ],
   "source": [
    "## Defines the null hypothesis function for the negative log likelihood\n",
    "def nllike(p,obs):\n",
    "    B0=p[0]\n",
    "    expected=B0\n",
    "    nll=-1*norm(expected).logpdf(obs.weight).sum()\n",
    "    return nll\n",
    "\n",
    "initialguess = np.array([1])\n",
    "fit = minimize(nllike, initialguess, method=\"Nelder-Mead\", options={'disp': True}, args=chickwts)\n",
    "\n",
    "print(fit.x)"
   ]
  },
  {
   "cell_type": "code",
   "execution_count": 16,
   "metadata": {},
   "outputs": [
    {
     "name": "stdout",
     "output_type": "stream",
     "text": [
      "Optimization terminated successfully.\n",
      "         Current function value: 138.469162\n",
      "         Iterations: 200\n",
      "         Function evaluations: 363\n",
      "[ 246.42855057   82.48813575   49.73948886]\n"
     ]
    }
   ],
   "source": [
    "## Defines the alternative hypothesis function for the negative log likelihood\n",
    "def nllike(p,obs):\n",
    "    B0=p[0]\n",
    "    B1=p[1]\n",
    "    sigma=p[2]\n",
    "    expected=B0+B1*obs.feed\n",
    "    nll=-1*norm(expected,sigma).logpdf(obs.weight).sum()\n",
    "    return nll\n",
    "\n",
    "initialguess = np.array([1,1,1])\n",
    "\n",
    "fit2 = minimize(nllike, initialguess, method=\"Nelder-Mead\", options={'disp': True}, args=chickwts)\n",
    "\n",
    "print(fit2.x)"
   ]
  },
  {
   "cell_type": "code",
   "execution_count": 17,
   "metadata": {
    "collapsed": true
   },
   "outputs": [],
   "source": [
    "## Saves the null and alternative hypotheses functions as variables\n",
    "nllnull=fit.fun\n",
    "nllalt=fit2.fun"
   ]
  },
  {
   "cell_type": "code",
   "execution_count": 18,
   "metadata": {},
   "outputs": [
    {
     "name": "stdout",
     "output_type": "stream",
     "text": [
      "The p-value when comparing sunflower seed and soybean seed chick weights is 0.0.\n"
     ]
    }
   ],
   "source": [
    "## Performs the calculation of the p value using chi2 and the function variables\n",
    "pval = 1 - chi2.cdf(x=2*(nllnull-nllalt), df=1)\n",
    "print \"The p-value when comparing sunflower seed and soybean seed chick weights is %s.\" %pval"
   ]
  },
  {
   "cell_type": "markdown",
   "metadata": {},
   "source": [
    "__Full Script:__"
   ]
  },
  {
   "cell_type": "code",
   "execution_count": 19,
   "metadata": {},
   "outputs": [
    {
     "name": "stdout",
     "output_type": "stream",
     "text": [
      "Optimization terminated successfully.\n",
      "         Current function value: 54169.142402\n",
      "         Iterations: 33\n",
      "         Function evaluations: 66\n",
      "[ 284.5]\n",
      "Optimization terminated successfully.\n",
      "         Current function value: 138.469162\n",
      "         Iterations: 200\n",
      "         Function evaluations: 363\n",
      "[ 246.42855057   82.48813575   49.73948886]\n",
      "The p-value when comparing sunflower seed and soybean seed chick weights is 0.0.\n"
     ]
    }
   ],
   "source": [
    "import numpy as np\n",
    "import pandas as pd\n",
    "from scipy.optimize import minimize\n",
    "from scipy.stats import norm, chi2\n",
    "\n",
    "chickwts = pd.read_csv(\"chickwts.txt\")\n",
    "\n",
    "chickwts = chickwts[(chickwts.feed == 'soybean') | (chickwts.feed == 'sunflower')]\n",
    "\n",
    "chickwts = chickwts.replace('soybean', 0)\n",
    "chickwts = chickwts.replace('sunflower',1)\n",
    "\n",
    "def nllike(p,obs):\n",
    "    B0=p[0]\n",
    "    expected=B0\n",
    "    nll=-1*norm(expected).logpdf(obs.weight).sum()\n",
    "    return nll\n",
    "\n",
    "initialguess = np.array([1])\n",
    "fit = minimize(nllike, initialguess, method=\"Nelder-Mead\", options={'disp': True}, args=chickwts)\n",
    "\n",
    "print(fit.x)\n",
    "\n",
    "def nllike(p,obs):\n",
    "    B0=p[0]\n",
    "    B1=p[1]\n",
    "    sigma=p[2]\n",
    "    expected=B0+B1*obs.feed\n",
    "    nll=-1*norm(expected,sigma).logpdf(obs.weight).sum()\n",
    "    return nll\n",
    "\n",
    "initialguess = np.array([1,1,1])\n",
    "\n",
    "fit2 = minimize(nllike, initialguess, method=\"Nelder-Mead\", options={'disp': True}, args=chickwts)\n",
    "\n",
    "print(fit2.x)\n",
    "\n",
    "nllnull=fit.fun\n",
    "nllalt=fit2.fun\n",
    "\n",
    "pval = 1 - chi2.cdf(x=2*(nllnull-nllalt), df=1)\n",
    "print \"The p-value when comparing sunflower seed and soybean seed chick weights is %s.\" %pval"
   ]
  },
  {
   "cell_type": "markdown",
   "metadata": {},
   "source": [
    "Part 5:\n",
    "\n",
    "Interpret the results of the likelihood ratio test:\n",
    "\n",
    "Because the p-value is less than 0.05, the data is deemed significant, meaning there is a statistically significant difference between the weights of chicks fed soybean versus those fed sunflower seeds."
   ]
  }
 ],
 "metadata": {
  "kernelspec": {
   "display_name": "Python 2",
   "language": "python",
   "name": "python2"
  },
  "language_info": {
   "codemirror_mode": {
    "name": "ipython",
    "version": 2
   },
   "file_extension": ".py",
   "mimetype": "text/x-python",
   "name": "python",
   "nbconvert_exporter": "python",
   "pygments_lexer": "ipython2",
   "version": "2.7.13"
  }
 },
 "nbformat": 4,
 "nbformat_minor": 2
}
