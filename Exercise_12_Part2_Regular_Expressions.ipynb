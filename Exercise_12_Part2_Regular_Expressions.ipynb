{
 "cells": [
  {
   "cell_type": "markdown",
   "metadata": {},
   "source": [
    "Helpful code:\n",
    "\n",
    "var1=re.compile(regexstring)\n",
    "\n",
    "list1=[list of strings to search]\n",
    "\n",
    "filter(var1.match,list1)"
   ]
  },
  {
   "cell_type": "markdown",
   "metadata": {},
   "source": [
    "Part 2. Regular Expressions"
   ]
  },
  {
   "cell_type": "markdown",
   "metadata": {},
   "source": [
    "**How to use a regular expression to find times after noon, but before midnight in military time.**\n",
    "\n",
    "Must match 12:01-23:59, but not any time starting with zero (aka 09:00) or 12:00, or 24:00."
   ]
  },
  {
   "cell_type": "markdown",
   "metadata": {},
   "source": [
    "Pseudo-regex:\n",
    "\n",
    "Numeric character 1 or 2\n",
    "\n",
    "If first numeric character is 1, the second character can be 2-9 (for 12-19)\n",
    "\n",
    "If first numeric character is 2, the second character can be 0-3 (for 20-23)\n",
    "\n",
    "First two numeric characters are followed by a colon.\n",
    "\n",
    "The character after the colon can be 0-5.\n",
    "\n",
    "The last character can be 0-9, unless the first character is 1 and the second character is 2, and the third character is 0, because that could match 12:00.\n",
    "\n",
    "Split the regex into multiple parts with \"|\" character in between for \"this or this\".\n",
    "\n",
    "- To match 12:01-12:09\n",
    "\n",
    "    re \"12\\:0[1-9]\"\n",
    "    \n",
    "    \n",
    "- To match 12:10-12:59\n",
    "\n",
    "    re\"12\\:[1-5][0-9]\"\n",
    "    \n",
    "    \n",
    "- To match 13:00-19:59\n",
    "\n",
    "    re\"1[3-9]\\:[0-5][0-9]\"\n",
    "    \n",
    "    \n",
    "- To match 20:00-23:59\n",
    "\n",
    "    re\"2[0-3]\\:[0-5][0-9]\""
   ]
  },
  {
   "cell_type": "code",
   "execution_count": 58,
   "metadata": {},
   "outputs": [
    {
     "data": {
      "text/plain": [
       "['12:01', '14:34', '23:59']"
      ]
     },
     "execution_count": 58,
     "metadata": {},
     "output_type": "execute_result"
    }
   ],
   "source": [
    "import re\n",
    "military_time=re.compile(r\"(12\\:0[1-9])|(12\\:[1-5][0-9]|(1[3-9]\\:[0-5][0-9])|(2[0-3]\\:[0-5][0-9]))\")\n",
    "times=[\"12:01\",\"03:40\",\"24:00\",\"12:00\",\"23\",\"67:00\",\"14:34\",\"hi meredith\",\"23:59\"]\n",
    "filter(military_time.match,times)"
   ]
  },
  {
   "cell_type": "markdown",
   "metadata": {},
   "source": [
    "As shown above, the regular expression matches items in the list between 12:01 and 23:59 in military time, but not strings of letters, numbers without colons, or times not between 12:01 and 23:59. \n"
   ]
  },
  {
   "cell_type": "markdown",
   "metadata": {},
   "source": [
    "**How to use a regular expression to find genus species names expressed in the format G. species.**"
   ]
  },
  {
   "cell_type": "markdown",
   "metadata": {},
   "source": [
    "Must match G. species format, not G species, Genus Species, G species, g species, etc.\n",
    "\n",
    "Pseudo-regex:\n",
    "Single instance of a capital letter.\n",
    "Period (character escaped).\n",
    "Space.\n",
    "Lowercase letter, followed by any number of additional lowercase letters."
   ]
  },
  {
   "cell_type": "code",
   "execution_count": 59,
   "metadata": {},
   "outputs": [
    {
     "data": {
      "text/plain": [
       "['H. sapiens', 'E. coli', 'S. pyogenes']"
      ]
     },
     "execution_count": 59,
     "metadata": {},
     "output_type": "execute_result"
    }
   ],
   "source": [
    "G_species=re.compile(r\"[A-Z]\\. [a-z]{1,}\")\n",
    "Gs_list=[\"Homo sapiens\", \"H. sapiens\", \"H. Sapiens\", \"h. sapiens\", \"H sapiens\", \"E. coli\", \"S. pyogenes\"]\n",
    "filter(G_species.match,Gs_list)"
   ]
  },
  {
   "cell_type": "markdown",
   "metadata": {},
   "source": [
    "The regular expression does not match any strings that are not in the format G. species, including specific capitalization and punctuation use. "
   ]
  },
  {
   "cell_type": "markdown",
   "metadata": {},
   "source": [
    "**How to use regular expressions to find social security numbers**"
   ]
  },
  {
   "cell_type": "markdown",
   "metadata": {},
   "source": [
    "Must match xxx-xx-xxxx\n",
    "\n",
    "Pseudo-regex: Exactly 3 numeric characters, dash, exactly 2 numeric characters, dash, exactly 4 numeric characters."
   ]
  },
  {
   "cell_type": "code",
   "execution_count": 60,
   "metadata": {},
   "outputs": [
    {
     "data": {
      "text/plain": [
       "['123-45-6789', '001-33-3456', '965-39-0012']"
      ]
     },
     "execution_count": 60,
     "metadata": {},
     "output_type": "execute_result"
    }
   ],
   "source": [
    "SS_num=re.compile(r\"[0-9]{3}\\-[0-9]{2}\\-[0-9]{4}\")\n",
    "SS_list=[\"123-45-6789\",\"my hovercraft is full of eels\", \"11-23-456\",\"001-33-3456\",\"11a-67-3589\",\"965-39-0012\"]\n",
    "filter(SS_num.match,SS_list)"
   ]
  },
  {
   "cell_type": "markdown",
   "metadata": {},
   "source": [
    "The regular expression will not match strings with letters, or without the exact three-two-four pattern of numbers."
   ]
  }
 ],
 "metadata": {
  "kernelspec": {
   "display_name": "Python 2",
   "language": "python",
   "name": "python2"
  },
  "language_info": {
   "codemirror_mode": {
    "name": "ipython",
    "version": 2
   },
   "file_extension": ".py",
   "mimetype": "text/x-python",
   "name": "python",
   "nbconvert_exporter": "python",
   "pygments_lexer": "ipython2",
   "version": "2.7.13"
  }
 },
 "nbformat": 4,
 "nbformat_minor": 2
}
