{
 "cells": [
  {
   "cell_type": "markdown",
   "metadata": {},
   "source": [
    "# Using Regular Expressions to Match Patterns \n",
    "\n",
    "Using regular expression to match patterns is useful when you want to look for strings in a file with lots of information. For this expercise we will look at three scenarios and use regular expressions to match patterns. To do this we will first add the regular expressions package in python (re). Then for each instance we will simulate some data, build a regular expression to capture matches in the simulated data using the re.compile function, and test the regular expression with the filter function, which takes the variable name of the regular expression then a period then specification of how you want to match it, and then which list to look in. "
   ]
  },
  {
   "cell_type": "markdown",
   "metadata": {},
   "source": [
    "## Times \n",
    "\n",
    "This pattern will match times after noon but before midnight when reported in 24-hour or \"military\" format. \n",
    "\n",
    "### First attempt\n",
    "\n",
    "This first regeular expression (\\d{1,2}\\:\\d{2}) captures times in general. It looks for 1 or 2 numerical characters, then a colon, and then 2 numerical characters. However, this does not solve the problem. "
   ]
  },
  {
   "cell_type": "code",
   "execution_count": 1,
   "metadata": {
    "scrolled": true
   },
   "outputs": [
    {
     "name": "stdout",
     "output_type": "stream",
     "text": [
      "['00:15', '01:15', '02:15', '3:15', '4:15', '05:15', '06:15', '07:15', '08:15', '09:15', '10:15', '11:15', '12:15', '13:15', '14:15', '15:15', '16:15', '17:15', '18:15', '19:15', '20:15', '21:15', '22:15', '23:15']\n"
     ]
    }
   ],
   "source": [
    "#add necessary packages\n",
    "import re\n",
    "#Simulate data\n",
    "times=['00:15','01:15','02:15','3:15','4:15','05:15','06:15','07:15','08:15','09:15','10:15','11:15','12:15','13:15','14:15','15:15','16:15','17:15','18:15','19:15','20:15','21:15','22:15','23:15']\n",
    "#Build expression\n",
    "regex=re.compile('\\d{1,2}\\:\\d{2}') #captures any time\n",
    "#filter\n",
    "print(filter(regex.match,times)) \n",
    "\n"
   ]
  },
  {
   "cell_type": "markdown",
   "metadata": {},
   "source": [
    "### Second attempt\n",
    "\n",
    "The next bit captures anything that starts with 1 or 2 and has 0-9 for the second digit. However, this still captures time before noon because it captures 10:xx and 11:xx. "
   ]
  },
  {
   "cell_type": "code",
   "execution_count": 2,
   "metadata": {},
   "outputs": [
    {
     "name": "stdout",
     "output_type": "stream",
     "text": [
      "['10:15', '11:15', '12:15', '13:15', '14:15', '15:15', '16:15', '17:15', '18:15', '19:15', '20:15', '21:15', '22:15', '23:15']\n"
     ]
    }
   ],
   "source": [
    "#Build expression\n",
    "regex2=re.compile('[1|2][0-9]:\\d{2}')\n",
    "#filter\n",
    "print(filter(regex2.match,times))"
   ]
  },
  {
   "cell_type": "markdown",
   "metadata": {},
   "source": [
    "### Final Regular Expression\n",
    "\n",
    "The combined used of the two regular expressions makes it so that the only digits you capture starting with a 1 are for 12:xx. Then, the print concetates the other times that you would want to capture."
   ]
  },
  {
   "cell_type": "code",
   "execution_count": 3,
   "metadata": {},
   "outputs": [
    {
     "name": "stdout",
     "output_type": "stream",
     "text": [
      "['12:15', '13:15', '14:15', '15:15', '16:15', '17:15', '18:15', '19:15', '20:15', '21:15', '22:15', '23:15']\n"
     ]
    }
   ],
   "source": [
    "#Build expression(s)\n",
    "regex3=re.compile('[1][2-9]:\\d{2}')\n",
    "regex4=re.compile('[2][0-9]:\\d{2}')\n",
    "print(filter(regex3.match,times)+filter(regex4.match,times))"
   ]
  },
  {
   "cell_type": "markdown",
   "metadata": {},
   "source": [
    "## Genus/Species Names \n",
    "\n",
    "This code will match genus species names expression in the format G. species (e.g. 'F. pennsylvanica'). This code looks for a capital letter [A-Z], then a period \\., then a space \\s, and then 2-25 lower case letters [a-z]{2-25}. Also, because we use .match in the filter function, it looks for instances where string starts with what we have specified. "
   ]
  },
  {
   "cell_type": "code",
   "execution_count": 4,
   "metadata": {},
   "outputs": [
    {
     "name": "stdout",
     "output_type": "stream",
     "text": [
      "['C. elegens', 'F. pennsylvanica', 'H. sapien', 'G. maculatus', 'M. methanoregula']\n"
     ]
    }
   ],
   "source": [
    "#Simulate data\n",
    "names=['Julio','C. elegens', 'F. pennsylvanica', 'J. E. Hoover', 'Horseraddish', 'H. sapien', 'G. maculatus', 'M. methanoregula', 'Rick', 'Eggs','J.i.b.b.e.r.i.s.h']\n",
    "#Build expression\n",
    "regex=re.compile('[A-Z]\\.\\s[a-z]{2,25}')\n",
    "#filter\n",
    "print(filter(regex.match,names))"
   ]
  },
  {
   "cell_type": "markdown",
   "metadata": {},
   "source": [
    "As you can see, it ignlored Julio because it needed a space. It ignored J. E. Hoover because the E. hoover wasn't at the beginning. Also it ignored all other instances that didn't match the regular expression. "
   ]
  },
  {
   "cell_type": "markdown",
   "metadata": {},
   "source": [
    "## Social Security Numbers \n",
    "\n",
    "This code will match social security numbers in the proper US format (e.g 389-05-4771). This might be helpful if you had hacked into the aarp database and were trying to steal people's identities. One thing you would want is their social. This regular expression looks for three digits \\d{3}, then a dash \\-, then two digits \\d{2}, then a dash \\-, and lastly three more digits \\d{3}, just like a social security number. "
   ]
  },
  {
   "cell_type": "code",
   "execution_count": 5,
   "metadata": {},
   "outputs": [
    {
     "name": "stdout",
     "output_type": "stream",
     "text": [
      "['389-05-4771', '333-11-9909', '616-21-7703']\n"
     ]
    }
   ],
   "source": [
    "#simulate data\n",
    "aarp=['389-05-4771','801-990-4372', 'Jeanne Romero-Severson', 'David Hyde', 'Micky Mouse', '333-11-9909', '574-661-9080', '555-444-9999', '616-21-7703']\n",
    "#Build expression\n",
    "regex=re.compile('\\d{3}\\-\\d{2}\\-\\d{4}')\n",
    "#filter\n",
    "print(filter(regex.match,aarp))"
   ]
  }
 ],
 "metadata": {
  "kernelspec": {
   "display_name": "Python 2",
   "language": "python",
   "name": "python2"
  },
  "language_info": {
   "codemirror_mode": {
    "name": "ipython",
    "version": 2
   },
   "file_extension": ".py",
   "mimetype": "text/x-python",
   "name": "python",
   "nbconvert_exporter": "python",
   "pygments_lexer": "ipython2",
   "version": "2.7.13"
  }
 },
 "nbformat": 4,
 "nbformat_minor": 2
}
