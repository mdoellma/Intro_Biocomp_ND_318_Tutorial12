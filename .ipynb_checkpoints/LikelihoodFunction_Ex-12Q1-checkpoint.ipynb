{
 "cells": [
  {
   "cell_type": "markdown",
   "metadata": {},
   "source": [
    "# Exercise 12, Q1: To determine statistical significance on a data set using user-defined negative log likelihood functions"
   ]
  },
  {
   "cell_type": "markdown",
   "metadata": {},
   "source": [
    "File: \"chickwts.txt\"\n",
    "\n",
    "Description: The file is separated into two comma-separated columns **\"weight\"**(numerical) and **\"feed\"**(string) with 71 rows.\n"
   ]
  },
  {
   "cell_type": "markdown",
   "metadata": {
    "collapsed": true
   },
   "source": [
    "## Import the required packages "
   ]
  },
  {
   "cell_type": "code",
   "execution_count": 1,
   "metadata": {},
   "outputs": [
    {
     "name": "stderr",
     "output_type": "stream",
     "text": [
      "/home/janicelove/anaconda2/lib/python2.7/site-packages/statsmodels/compat/pandas.py:56: FutureWarning: The pandas.core.datetools module is deprecated and will be removed in a future version. Please use the pandas.tseries module instead.\n",
      "  from pandas.core import datetools\n"
     ]
    }
   ],
   "source": [
    "import numpy as np \n",
    "import pandas as pd \n",
    "from scipy.optimize import minimize\n",
    "from scipy.stats import norm\n",
    "from plotnine import *"
   ]
  },
  {
   "cell_type": "markdown",
   "metadata": {},
   "source": [
    "## Read data from file and store in variable \"data\" "
   ]
  },
  {
   "cell_type": "code",
   "execution_count": 17,
   "metadata": {
    "collapsed": true
   },
   "outputs": [],
   "source": [
    "data = pd.read_csv(\"chickwts.txt\", sep=',')"
   ]
  },
  {
   "cell_type": "markdown",
   "metadata": {},
   "source": [
    "## Store data into dataframe, assign variables: **feed** = x, **weight** = y "
   ]
  },
  {
   "cell_type": "code",
   "execution_count": 18,
   "metadata": {
    "collapsed": true
   },
   "outputs": [],
   "source": [
    "df = pd.DataFrame({\"x\":data.weight,\"y\":data.feed})"
   ]
  },
  {
   "cell_type": "markdown",
   "metadata": {},
   "source": [
    "## Plot data using plotnine  "
   ]
  },
  {
   "cell_type": "code",
   "execution_count": 19,
   "metadata": {},
   "outputs": [
    {
     "data": {
      "image/png": "[encoded data removed]",
      "text/plain": [
       "<matplotlib.figure.Figure at 0x7f3471809c50>"
      ]
     },
     "metadata": {},
     "output_type": "display_data"
    },
    {
     "data": {
      "text/plain": [
       "<ggplot: (8741430416257)>"
      ]
     },
     "execution_count": 19,
     "metadata": {},
     "output_type": "execute_result"
    }
   ],
   "source": [
    "summary = ggplot(data,aes(x=\"feed\",y=\"weight\"))\n",
    "summary+geom_point()+coord_cartesian()"
   ]
  },
  {
   "cell_type": "markdown",
   "metadata": {},
   "source": [
    "## We need to rearrange the data before we can make hypotheses and test them. \n",
    "\n",
    "We need to pull out certain pieces of data: for this example we are going to compare chick **weights** from chicks fed either **soybean** or **sunflower** feed. (1)In the **sunflower** list will be chick **weights** from chicks raised on **sunflower** feed and the (2) **soybean** list will include the **weights** from chicks raised on **soybean** feed. Then we will need to (3) combine those lists together. (4) Then we have to replace the feed type (string) with an int value: either 1 or 0. This step is required for hypothesis testing. "
   ]
  },
  {
   "cell_type": "code",
   "execution_count": 20,
   "metadata": {
    "collapsed": true
   },
   "outputs": [],
   "source": [
    "#1, 2:\n",
    "sunflower=data.loc[data.feed.isin(['sunflower']),:]\n",
    "soybean = data.loc[data.feed.isin(['soybean']),:]\n",
    "\n",
    "#3:\n",
    "temp = [sunflower, soybean]\n",
    "likelihood_df = pd.concat(temp)\n",
    "\n",
    "#4:\n",
    "likelihood_df.replace(['sunflower','soybean'],[0,1],inplace=True)"
   ]
  },
  {
   "cell_type": "markdown",
   "metadata": {},
   "source": [
    "## Make hypotheses and test them \n",
    "\n",
    "Let's test two hypotheses: *(1) the type of **feed** has no effect on chick **weight** (2) the type of **feed** affects the **weight** of the chick *"
   ]
  },
  {
   "cell_type": "markdown",
   "metadata": {},
   "source": [
    "## test null hypothesis with negative log likelihood function (user-defined)\n",
    "\n",
    "This is to test hypothesis 1: *that the type of **feed** does not have an effect on chick **weight**.* "
   ]
  },
  {
   "cell_type": "code",
   "execution_count": 21,
   "metadata": {
    "collapsed": true
   },
   "outputs": [],
   "source": [
    "def null(p,obs):\n",
    "    B0=p[0]\n",
    "    sigma=p[1]\n",
    "    expected=B0\n",
    "    nll=-1*norm(expected,sigma).logpdf(obs.weight).sum()\n",
    "    return nll"
   ]
  },
  {
   "cell_type": "markdown",
   "metadata": {},
   "source": [
    "## test alternative hypothesis with negative log likelihood function (user-defined)\n",
    "\n",
    "This is to test hypothesis 2: *that the type of **feed (soybean or sunflower)** makes a difference in chick **weight** * "
   ]
  },
  {
   "cell_type": "code",
   "execution_count": 26,
   "metadata": {
    "collapsed": true
   },
   "outputs": [],
   "source": [
    "def alt(p,obs):\n",
    "    B0=p[0]\n",
    "    B1=p[1]\n",
    "    sigma=p[2]\n",
    "    expected=B0+B1*obs.feed\n",
    "    nll=-1*norm(expected,sigma).logpdf(obs.weight).sum()\n",
    "    return nll"
   ]
  },
  {
   "cell_type": "markdown",
   "metadata": {},
   "source": [
    "## Next we create an array of initial values to run the functions "
   ]
  },
  {
   "cell_type": "code",
   "execution_count": 27,
   "metadata": {},
   "outputs": [
    {
     "name": "stdout",
     "output_type": "stream",
     "text": [
      "Optimization terminated successfully.\n",
      "         Current function value: 145.240592\n",
      "         Iterations: 138\n",
      "         Function evaluations: 261\n",
      "Optimization terminated successfully.\n",
      "         Current function value: 138.469162\n",
      "         Iterations: 230\n",
      "         Function evaluations: 412\n",
      "[ 284.49996562   64.53698087  -87.59469238]\n",
      "[ 328.91663525  -82.48804545   49.73944026]\n"
     ]
    }
   ],
   "source": [
    "initialVals=np.array([1,1,1])\n",
    "\n",
    "fitNull=minimize(null,initialVals,method=\"Nelder-Mead\",options={'disp':True},args=likelihood_df)\n",
    "fitAlt=minimize(alt,initialVals,method=\"Nelder-Mead\",options={'disp':True},args=likelihood_df)\n",
    "\n",
    "print (fitNull.x)\n",
    "print (fitAlt.x)\n"
   ]
  },
  {
   "cell_type": "markdown",
   "metadata": {},
   "source": [
    "## Finally we determine if there is a statistically significant difference between feed type and chick weights, using a chi-square test "
   ]
  },
  {
   "cell_type": "code",
   "execution_count": 28,
   "metadata": {},
   "outputs": [
    {
     "name": "stdout",
     "output_type": "stream",
     "text": [
      "0.000233176728694\n"
     ]
    }
   ],
   "source": [
    "from scipy.stats import chi2\n",
    "\n",
    "D=(2*(fitNull.fun-fitAlt.fun))\n",
    "chi2feed=(1-chi2.cdf(x=D,df=1))\n",
    "print(chi2feed)"
   ]
  },
  {
   "cell_type": "markdown",
   "metadata": {},
   "source": [
    "# The p-value tells us there is a statistically significant difference with p<0.05 \n",
    "\n",
    "We can print a summary statement:"
   ]
  },
  {
   "cell_type": "code",
   "execution_count": 29,
   "metadata": {},
   "outputs": [
    {
     "name": "stdout",
     "output_type": "stream",
     "text": [
      "Raising chicks on different feed has a statistically significant effect on resulting chick weight.\n"
     ]
    }
   ],
   "source": [
    "print (\"Raising chicks on different feed has a statistically significant effect on resulting chick weight.\")"
   ]
  },
  {
   "cell_type": "code",
   "execution_count": null,
   "metadata": {
    "collapsed": true
   },
   "outputs": [],
   "source": []
  }
 ],
 "metadata": {
  "kernelspec": {
   "display_name": "Python 2",
   "language": "python",
   "name": "python2"
  },
  "language_info": {
   "codemirror_mode": {
    "name": "ipython",
    "version": 2
   },
   "file_extension": ".py",
   "mimetype": "text/x-python",
   "name": "python",
   "nbconvert_exporter": "python",
   "pygments_lexer": "ipython2",
   "version": "2.7.13"
  }
 },
 "nbformat": 4,
 "nbformat_minor": 2
}
