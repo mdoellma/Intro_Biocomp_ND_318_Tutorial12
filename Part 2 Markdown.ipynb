{
 "cells": [
  {
   "cell_type": "markdown",
   "metadata": {},
   "source": [
    "## Helpful Code"
   ]
  },
  {
   "cell_type": "code",
   "execution_count": 1,
   "metadata": {},
   "outputs": [
    {
     "ename": "SyntaxError",
     "evalue": "invalid syntax (<ipython-input-1-34e6f93dc310>, line 2)",
     "output_type": "error",
     "traceback": [
      "\u001b[1;36m  File \u001b[1;32m\"<ipython-input-1-34e6f93dc310>\"\u001b[1;36m, line \u001b[1;32m2\u001b[0m\n\u001b[1;33m    -list1 = [list of strings to search]\u001b[0m\n\u001b[1;37m                    ^\u001b[0m\n\u001b[1;31mSyntaxError\u001b[0m\u001b[1;31m:\u001b[0m invalid syntax\n"
     ]
    }
   ],
   "source": [
    " -var1 = re.compile(regexstring)  \n",
    " -list1 = [list of strings to search]  \n",
    " -filter(var1.match,list1)"
   ]
  },
  {
   "cell_type": "markdown",
   "metadata": {},
   "source": [
    "Example puesdo code to test the below regex expressions: \n",
    "#create regex string and make an object using below\n",
    "var1-re.compile(regex)\n",
    "#create example list, with 3 correct and 1 invalid match\n",
    "list1=[a, b, c, x]  #x won't match\n",
    "filter(vat1.match, list1)"
   ]
  },
  {
   "cell_type": "markdown",
   "metadata": {},
   "source": [
    "# Part A"
   ]
  },
  {
   "cell_type": "markdown",
   "metadata": {},
   "source": [
    " Regex expression: (^1[2-9]|2[0-3]):[0-5]\\d$\n",
    " -the above will identify \"times after noon, but before midnight when reported in 24-hour or “military” format (e.g. 15:30)\". "
   ]
  },
  {
   "cell_type": "markdown",
   "metadata": {},
   "source": [
    "# Part B"
   ]
  },
  {
   "cell_type": "code",
   "execution_count": null,
   "metadata": {
    "collapsed": true
   },
   "outputs": [],
   "source": [
    " Regex expression: ^[A-Z]\\. [a-z]+$"
   ]
  },
  {
   "cell_type": "markdown",
   "metadata": {},
   "source": [
    "# Part C"
   ]
  },
  {
   "cell_type": "code",
   "execution_count": null,
   "metadata": {
    "collapsed": true
   },
   "outputs": [],
   "source": [
    " Regex expression: ^\\d{3}-\\d{2}-\\d{4}$"
   ]
  }
 ],
 "metadata": {
  "kernelspec": {
   "display_name": "Python 3",
   "language": "python",
   "name": "python3"
  },
  "language_info": {
   "codemirror_mode": {
    "name": "ipython",
    "version": 3
   },
   "file_extension": ".py",
   "mimetype": "text/x-python",
   "name": "python",
   "nbconvert_exporter": "python",
   "pygments_lexer": "ipython3",
   "version": "3.6.3"
  }
 },
 "nbformat": 4,
 "nbformat_minor": 2
}
