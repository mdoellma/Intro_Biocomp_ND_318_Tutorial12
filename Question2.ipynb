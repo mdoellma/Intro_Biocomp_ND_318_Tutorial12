{
 "cells": [
  {
   "cell_type": "markdown",
   "metadata": {
    "collapsed": true
   },
   "source": [
    "# Python Tutorial Exercise 12 -- Question 2  \n",
    "\n",
    "2. Create a Rmarkdown or Jupyter Notebook that describes a regular expression that matches each of the three patterns below. For each regular expression, use Markdown to describe why the regular expression matches the patterns, use R or Python code to show an example where the regular expression matches the desired set of strings and not other strings of your choosing. The three patterns are:\n",
    "<ol type=\"a\">\n",
    "    <li>\n",
    "        times after noon, but before midnight when reported in 24-hour or “military” format (e.g. 15:30)\n",
    "    </li>\n",
    "    <li>\n",
    "        Genus species names expressed in the format G. species (e.g. H. sapien)\n",
    "    </li>\n",
    "    <li>\n",
    "        Social security numbers (e.g 389-05-4771)\n",
    "    </li>\n",
    "</ol>\n",
    "\n",
    "Create a HTML ﬁle from your work, and be sure the .rmd or .ipynb and the .html ﬁle are submitted in your ﬁnal Github repo."
   ]
  },
  {
   "cell_type": "markdown",
   "metadata": {},
   "source": [
    "a) military times after noon but before midnight. \n",
    "\n",
    "First, we need to match the minutes portion. Our regex should match anything from 00 to 59, so any digit between 0 and 5 inclusive, followed by any digit:\n",
    "<div style=\"text-align:center\"><b>[0-5]\\d</b></div>\n",
    "    \n",
    "Before this, we need to match a literal colon:\n",
    "<div style=\"text-align:center\"><b>:</b>[0-5]\\d$</div>\n",
    "\n",
    "Next, we need to match hours between noon (12:00) inclusive and midnight (00:00) non-inclusive. This requires two separate regex statements, evaluated in an OR statement.\n",
    "<div style=\"text-align:center\">^(<b>exp. 1</b>|<b>exp. 2</b>):[0-5]\\d$</div>\n",
    "\n",
    "One of these pieces should match the numbers 12-19. We can break this down to a literal 1 followed by 2 through 9.\n",
    "<div style=\"text-align:center\">^(<b>1[2-9]</b>|exp. 2):[0-5]\\d$</div>\n",
    "\n",
    "The next should match the numbers 20-23 - a literal 2 followed by a digit 0 through 3.\n",
    "<div style=\"text-align:center\">^(1[2-9]|<b>2[0-3]</b>):[0-5]\\d$</div>\n",
    "\n",
    "We should now test this expression to ensure it matches what we want it to, and doesn't match what we don't want.\n",
    "<div style=\"text-align:center\">^(1[2-9]|2[0-3]):[0-5]\\d$</div>"
   ]
  },
  {
   "cell_type": "code",
   "execution_count": 8,
   "metadata": {},
   "outputs": [
    {
     "data": {
      "text/plain": [
       "['12:25', '23:55', '14:28', '19:20', '21:11', '14:47']"
      ]
     },
     "execution_count": 8,
     "metadata": {},
     "output_type": "execute_result"
    }
   ],
   "source": [
    "import re\n",
    "x = re.compile(r'^(1[2-9]|2[0-3]):[0-5]\\d$')\n",
    "times = ['12:25', '23:55', '14:28', '19:20', '21:11', '14:47', '11:59', '25:11', '30:01', '21:1', '1:44', '24:00']\n",
    "filter(x.match, times)"
   ]
  },
  {
   "cell_type": "markdown",
   "metadata": {},
   "source": [
    "b) Scientific names of organisms expressed in binomial nomenclature, with the genus abbreviated to a single letter.\n",
    "\n",
    "First, we should match a single capital letter...\n",
    "<div style=\"text-align:center\"><b>^[A-Z]</b></div>\n",
    "\n",
    "... followed by a literal period. Remember, periods are a special character in regex, so they must be escaped!\n",
    "<div style=\"text-align:center\">^[A-Z]<b>\\.</b></div>\n",
    "\n",
    "Finally, match a space followed by a lowercase word. We don't know how long this will be, but it will be at least one letter, so we use the + modifier to match one or more letters.\n",
    "<div style=\"text-align:center\">^[A-Z]\\. <b>[a-z]+$</b></div>\n",
    "\n",
    "Again, we should test this out on a test set:\n",
    "<div style=\"text-align:center\">^[A-Z]\\. [a-z]+$</div>"
   ]
  },
  {
   "cell_type": "code",
   "execution_count": 12,
   "metadata": {},
   "outputs": [
    {
     "data": {
      "text/plain": [
       "['H. sapien', 'M. musculus', 'E. ferus']"
      ]
     },
     "execution_count": 12,
     "metadata": {},
     "output_type": "execute_result"
    }
   ],
   "source": [
    "import re\n",
    "x = re.compile(r'^[A-Z]\\. [a-z]+$')\n",
    "organisms = ['H. sapien', 'M. musculus', 'Canis lupus', 'B. Taurus', 'Homo erectus', 'E. ferus', 'Panthera u.']\n",
    "filter(x.match, organisms)"
   ]
  },
  {
   "cell_type": "markdown",
   "metadata": {},
   "source": [
    "c) A U.S. social security numbers.\n",
    "\n",
    "We need to match any three digits...\n",
    "<div style=\"text-align:center\"><b>^\\d{3}</b></div>\n",
    "\n",
    "Separated by a dash, and followed by any two digits...\n",
    "<div style=\"text-align:center\">^\\d{3}<b>-\\d{2}</b></div>\n",
    "\n",
    "Separated by another dash, and followed by any four digits...\n",
    "<div style=\"text-align:center\">^\\d{3}-\\d{2}<b>-\\d{4}$</b></div>\n",
    "\n",
    "Now let's test this!\n",
    "<div style=\"text-align:center\">^\\d{3}-\\d{2}-\\d{4}$</div>"
   ]
  },
  {
   "cell_type": "code",
   "execution_count": 11,
   "metadata": {},
   "outputs": [
    {
     "data": {
      "text/plain": [
       "['389-05-4771', '915-00-8055', '465-06-2137']"
      ]
     },
     "execution_count": 11,
     "metadata": {},
     "output_type": "execute_result"
    }
   ],
   "source": [
    "import re\n",
    "x = re.compile(r'^\\d{3}-\\d{2}-\\d{4}$')\n",
    "SSN = ['389-05-4771','915-00-8055','515-503-4182','867-53-09e9','465-06-2137']\n",
    "filter(x.match, SSN)"
   ]
  }
 ],
 "metadata": {
  "kernelspec": {
   "display_name": "Python 2",
   "language": "python",
   "name": "python2"
  },
  "language_info": {
   "codemirror_mode": {
    "name": "ipython",
    "version": 2
   },
   "file_extension": ".py",
   "mimetype": "text/x-python",
   "name": "python",
   "nbconvert_exporter": "python",
   "pygments_lexer": "ipython2",
   "version": "2.7.13"
  }
 },
 "nbformat": 4,
 "nbformat_minor": 2
}
