{
 "cells": [
  {
   "cell_type": "markdown",
   "metadata": {},
   "source": [
    "# Step-by-step Creating a maximum likelihood t-test in Python\n",
    "\n",
    "Hi, this is a tutorial on how to code a t-test using maximum likelihood in Python. This tutorial will explain how to create separate negative log-likelihood functions for the null and alternate model as well as produce a t-test that compares these models.\n",
    "\n",
    "## Stats language:\n",
    "\n",
    "Before we jump into the code, we need to define the statistical models for the t-test. The two models are the **null model** and the **alternative model**. \n",
    "\n",
    "In the null model of a t-test, we hypothesize that there is no difference between the means of two populations. We describe the model using the equation:\n",
    "\n",
    "$$y = \\beta_0 + ε$$\n",
    "\n",
    "In the alternative model, we hypothesize that there is a significance between the means.\n",
    "\n",
    "$$y = \\beta_0 + \\beta_1x + ε$$"
   ]
  },
  {
   "cell_type": "markdown",
   "metadata": {},
   "source": [
    "## Complete code:"
   ]
  },
  {
   "cell_type": "code",
   "execution_count": null,
   "metadata": {},
   "outputs": [],
   "source": [
    "import pandas\n",
    "import numpy\n",
    "import scipy.stats\n",
    "from scipy.optimize import minimize\n",
    "from plotnine import *\n",
    "\n",
    "#Import our data set\n",
    "data = pandas.read_csv(\"chickwts.txt\")\n",
    "\n",
    "#Graph a summary plot of means for each seed type\n",
    "ggplot(data=data) + geom_bar(aes(x='factor(feed)', y='weight'), stat = \"summary\", fun_y = numpy.mean) + theme_classic() + xlab(\"feed type\") + ylab(\"mean weight\")\n",
    "\n",
    "#A function to return the negative log-likelihood for a given observation\n",
    "def nllike (p, obs):\n",
    "    B0 = p[0]\n",
    "    B1 = p[1]\n",
    "    sigma = p[2]\n",
    "    expected = B0 + B1 * obs.x\n",
    "    nll = -1 * scipy.stats.norm(expected, sigma).logpdf(obs.y).sum()\n",
    "    return nll\n",
    "\n",
    "#A function to return the negative log-likelihood for the null model\n",
    "def nllike_null (p, obs):\n",
    "    B0 = p[0]\n",
    "    sigma = p[1]\n",
    "    expected = B0\n",
    "    nll = -1 * scipy.stats.norm(expected, sigma).logpdf(obs.y).sum()\n",
    "    return nll\n",
    "\n",
    "#function for returning p-value for t-test\n",
    "def ttest (data, group1, group2, x, y):\n",
    "    #define a temporary slice of the data\n",
    "    temp_df = data[(data[x]==group1) | (data[x]==group2)]\n",
    "    \n",
    "    #Make new column 'x' set as 0 or 1 based on group\n",
    "    temp_df[\"x\"] = 0\n",
    "    temp_df[\"x\"][temp_df[x] == group2] = 1\n",
    "    temp_df[\"y\"] = temp_df[y]\n",
    "    \n",
    "    # y = B0 + B1*x + E\n",
    "    model = minimize(nllike, [1, 1, 1], method = \"Nelder-Mead\", options={'disp': True}, args = temp_df)\n",
    "    \n",
    "    # y = B0 + E\n",
    "    null_model = minimize(nllike_null, [1, 1], method = \"Nelder-Mead\", options={'disp': True}, args = temp_df)\n",
    "    \n",
    "    #Get differences in fit\n",
    "    D = (null_model.fun - model.fun) * 2\n",
    "    \n",
    "    #Use chi3.sf() for returning p-value\n",
    "    p = scipy.stats.chi2.sf(D,1)\n",
    "    \n",
    "    #Print results\n",
    "    print (\"-----------------------------\")\n",
    "    print (group1 + \" vs. \" + group2)\n",
    "    print (\"p-value = \" + str(p))\n",
    "    if p <= 0.05:\n",
    "        print (\"Significance\")\n",
    "    else:\n",
    "        print (\"No significance\")\n",
    "    print (\"-----------------------------\")\n",
    "\n",
    "#Perform t-tests\n",
    "ttest(data, group1=\"horsebean\", group2=\"casein\", x=\"feed\", y=\"weight\")"
   ]
  },
  {
   "cell_type": "markdown",
   "metadata": {},
   "source": [
    "## Step 1: Importing our tools and dataset\n",
    "\n",
    "We import pandas, numpy, scipy.stats, minimize from scipy.optimize, and all functions from plotnine (this is different than *import plotnine*).\n",
    "\n",
    "We then use pandas.read_csv() to import a text file as a pandas Dataframe."
   ]
  },
  {
   "cell_type": "code",
   "execution_count": null,
   "metadata": {
    "collapsed": true
   },
   "outputs": [],
   "source": [
    "import pandas\n",
    "import numpy\n",
    "import scipy.stats\n",
    "from scipy.optimize import minimize\n",
    "from plotnine import *\n",
    "\n",
    "#Import our data set\n",
    "data = pandas.read_csv(\"chickwts.txt\")"
   ]
  },
  {
   "cell_type": "markdown",
   "metadata": {},
   "source": [
    "We can check whether the data have been loaded. The dataframe contains 70 rows of feed types and the chick weights produced from that type of feed."
   ]
  },
  {
   "cell_type": "code",
   "execution_count": 9,
   "metadata": {},
   "outputs": [
    {
     "name": "stdout",
     "output_type": "stream",
     "text": [
      "    weight       feed\n",
      "0      179  horsebean\n",
      "1      160  horsebean\n",
      "2      136  horsebean\n",
      "3      227  horsebean\n",
      "4      217  horsebean\n",
      "5      168  horsebean\n",
      "6      108  horsebean\n",
      "7      124  horsebean\n",
      "8      143  horsebean\n",
      "9      140  horsebean\n",
      "10     309    linseed\n",
      "11     229    linseed\n",
      "12     181    linseed\n",
      "13     141    linseed\n",
      "14     260    linseed\n",
      "15     203    linseed\n",
      "16     148    linseed\n",
      "17     169    linseed\n",
      "18     213    linseed\n",
      "19     257    linseed\n",
      "20     244    linseed\n",
      "21     271    linseed\n",
      "22     243    soybean\n",
      "23     230    soybean\n",
      "24     248    soybean\n",
      "25     327    soybean\n",
      "26     329    soybean\n",
      "27     250    soybean\n",
      "28     193    soybean\n",
      "29     271    soybean\n",
      "..     ...        ...\n",
      "41     226  sunflower\n",
      "42     320  sunflower\n",
      "43     295  sunflower\n",
      "44     334  sunflower\n",
      "45     322  sunflower\n",
      "46     297  sunflower\n",
      "47     318  sunflower\n",
      "48     325   meatmeal\n",
      "49     257   meatmeal\n",
      "50     303   meatmeal\n",
      "51     315   meatmeal\n",
      "52     380   meatmeal\n",
      "53     153   meatmeal\n",
      "54     263   meatmeal\n",
      "55     242   meatmeal\n",
      "56     206   meatmeal\n",
      "57     344   meatmeal\n",
      "58     258   meatmeal\n",
      "59     368     casein\n",
      "60     390     casein\n",
      "61     379     casein\n",
      "62     260     casein\n",
      "63     404     casein\n",
      "64     318     casein\n",
      "65     352     casein\n",
      "66     359     casein\n",
      "67     216     casein\n",
      "68     222     casein\n",
      "69     283     casein\n",
      "70     332     casein\n",
      "\n",
      "[71 rows x 2 columns]\n"
     ]
    }
   ],
   "source": [
    "print data"
   ]
  },
  {
   "cell_type": "markdown",
   "metadata": {},
   "source": [
    "We can visualize the data using the following line of code, which creates a bar graph of mean chick weights by feed type."
   ]
  },
  {
   "cell_type": "code",
   "execution_count": 10,
   "metadata": {},
   "outputs": [
    {
     "data": {
      "image/png": "[encoded data removed]",
      "text/plain": [
       "<matplotlib.figure.Figure at 0xd22f908>"
      ]
     },
     "metadata": {},
     "output_type": "display_data"
    },
    {
     "data": {
      "text/plain": [
       "<ggplot: (6866962)>"
      ]
     },
     "execution_count": 10,
     "metadata": {},
     "output_type": "execute_result"
    }
   ],
   "source": [
    "#Graph a summary plot of means for each feed type\n",
    "ggplot(data=data) + geom_bar(aes(x='factor(feed)', y='weight'), stat = \"summary\", fun_y = numpy.mean) + theme_classic() + xlab(\"feed type\") + ylab(\"mean weight\")"
   ]
  },
  {
   "cell_type": "markdown",
   "metadata": {},
   "source": [
    "## Step 2: Defining functions for computing negative loglikelihood for the models\n",
    "\n",
    "Here, we'll be coding two functions to calculate the negative loglikelihood for a given observation for each of our models.\n",
    "Remember, the equation for the null model is:\n",
    "$$y = \\beta_0 + ε$$\n",
    "\n",
    "The equation for the alternative model is:\n",
    "\n",
    "$$y = \\beta_0 + \\beta_1x + ε$$\n",
    "\n",
    "We'll start with the null model.\n",
    "\n",
    "**First define the function**"
   ]
  },
  {
   "cell_type": "code",
   "execution_count": null,
   "metadata": {
    "collapsed": true
   },
   "outputs": [],
   "source": [
    "def nllike_null (p, obs):"
   ]
  },
  {
   "cell_type": "markdown",
   "metadata": {},
   "source": [
    "**Now we will unpack the parameters**\n",
    "\n",
    "Here, *p* is a list of two terms: the intercept (β0) and the error (ε)"
   ]
  },
  {
   "cell_type": "code",
   "execution_count": null,
   "metadata": {
    "collapsed": true
   },
   "outputs": [],
   "source": [
    "def nllike_null (p, obs):\n",
    "    B0 = p[0]\n",
    "    sigma = p[1]"
   ]
  },
  {
   "cell_type": "markdown",
   "metadata": {},
   "source": [
    "**We calculate the expected value (y).**\n",
    "\n",
    "*Where's the error in the formula? Stick around to find out!*"
   ]
  },
  {
   "cell_type": "code",
   "execution_count": null,
   "metadata": {
    "collapsed": true
   },
   "outputs": [],
   "source": [
    "def nllike_null (p, obs):\n",
    "    B0 = p[0]\n",
    "    sigma = p[1]\n",
    "    expected = B0"
   ]
  },
  {
   "cell_type": "markdown",
   "metadata": {},
   "source": [
    "**Then we calculate the negative loglikelihood (nll)**\n",
    "\n",
    "The error *sigma* pops back in this equation. We then return nll."
   ]
  },
  {
   "cell_type": "code",
   "execution_count": null,
   "metadata": {
    "collapsed": true
   },
   "outputs": [],
   "source": [
    "def nllike_null (p, obs):\n",
    "    B0 = p[0]\n",
    "    sigma = p[1]\n",
    "    expected = B0\n",
    "    nll = -1 * scipy.stats.norm(expected, sigma).logpdf(obs.y).sum()\n",
    "    return nll"
   ]
  },
  {
   "cell_type": "markdown",
   "metadata": {},
   "source": [
    "***Our completed function for the negative loglikelihood for the null model:***"
   ]
  },
  {
   "cell_type": "code",
   "execution_count": null,
   "metadata": {
    "collapsed": true
   },
   "outputs": [],
   "source": [
    "#A function to return the negative log-likelihood for the null model\n",
    "def nllike_null (p, obs):\n",
    "    B0 = p[0]\n",
    "    sigma = p[1]\n",
    "    expected = B0\n",
    "    nll = -1 * scipy.stats.norm(expected, sigma).logpdf(obs.y).sum()\n",
    "    return nll"
   ]
  },
  {
   "cell_type": "markdown",
   "metadata": {},
   "source": [
    "**We then create a similar function for the alternative model:**\n",
    "\n",
    "Notice that we have more parameters to unpack as well as another term in the expected variable. *Why B1 * obs.x?*"
   ]
  },
  {
   "cell_type": "code",
   "execution_count": null,
   "metadata": {
    "collapsed": true
   },
   "outputs": [],
   "source": [
    "#A function to return the negative log-likelihood for a given observation\n",
    "def nllike (p, obs):\n",
    "    B0 = p[0]\n",
    "    B1 = p[1]\n",
    "    sigma = p[2]\n",
    "    expected = B0 + B1 * obs.x\n",
    "    nll = -1 * scipy.stats.norm(expected, sigma).logpdf(obs.y).sum()\n",
    "    return nll"
   ]
  },
  {
   "cell_type": "markdown",
   "metadata": {},
   "source": [
    "## Step 3: Creating a function for the t-test\n",
    "\n",
    "Finally, we get to the actual test. We will create a function with four parameters.\n",
    "\n",
    "    data will be our dataset\n",
    "    group1 will be the feed type compared\n",
    "    group2 will be the second feed type compared\n",
    "    x is the independent categorical variable, i.e. \"feed\"\n",
    "    y is the response variable, i.e. \"weight\""
   ]
  },
  {
   "cell_type": "code",
   "execution_count": null,
   "metadata": {
    "collapsed": true
   },
   "outputs": [],
   "source": [
    "#function for returning p-value for t-test\n",
    "def ttest (data, group1, group2, x, y):"
   ]
  },
  {
   "cell_type": "markdown",
   "metadata": {},
   "source": [
    "**We'll just subset the data, named *temp_df* of the feed types that we're only interested**"
   ]
  },
  {
   "cell_type": "code",
   "execution_count": null,
   "metadata": {
    "collapsed": true
   },
   "outputs": [],
   "source": [
    "#function for returning p-value for t-test\n",
    "def ttest (data, group1, group2, x, y):\n",
    "    #define a temporary slice of the data\n",
    "    temp_df = data[(data[x]==group1) | (data[x]==group2)]"
   ]
  },
  {
   "cell_type": "markdown",
   "metadata": {},
   "source": [
    "**We'll create a new column called *x* in *temp_df* called x with the values as 0 or 1 depending on the feed type of the row.**\n",
    "\n",
    "**We then make another new column called *y* that's just a copy of the response column**"
   ]
  },
  {
   "cell_type": "code",
   "execution_count": null,
   "metadata": {
    "collapsed": true
   },
   "outputs": [],
   "source": [
    "#function for returning p-value for t-test\n",
    "def ttest (data, group1, group2, x, y):\n",
    "    #define a temporary slice of the data\n",
    "    temp_df = data[(data[x]==group1) | (data[x]==group2)]\n",
    "    \n",
    "    #Make new column 'x' set as 0 or 1 based on group\n",
    "    temp_df[\"x\"] = 0\n",
    "    temp_df[\"x\"][temp_df[x] == group2] = 1\n",
    "    temp_df[\"y\"] = temp_df[y]"
   ]
  },
  {
   "cell_type": "markdown",
   "metadata": {},
   "source": [
    "**We use *minimize* in the scipy package to calculate the fit for the two models.**"
   ]
  },
  {
   "cell_type": "code",
   "execution_count": null,
   "metadata": {
    "collapsed": true
   },
   "outputs": [],
   "source": [
    "#function for returning p-value for t-test\n",
    "def ttest (data, group1, group2, x, y):\n",
    "    #define a temporary slice of the data\n",
    "    temp_df = data[(data[x]==group1) | (data[x]==group2)]\n",
    "    \n",
    "    #Make new column 'x' set as 0 or 1 based on group\n",
    "    temp_df[\"x\"] = 0\n",
    "    temp_df[\"x\"][temp_df[x] == group2] = 1\n",
    "    temp_df[\"y\"] = temp_df[y]\n",
    "    \n",
    "    # y = B0 + B1*x + E\n",
    "    model = minimize(nllike, [1, 1, 1], method = \"Nelder-Mead\", options={'disp': True}, args = temp_df)\n",
    "    \n",
    "    # y = B0 + E\n",
    "    null_model = minimize(nllike_null, [1, 1], method = \"Nelder-Mead\", options={'disp': True}, args = temp_df)"
   ]
  },
  {
   "cell_type": "markdown",
   "metadata": {},
   "source": [
    "**To compute the p-value of the t-test**"
   ]
  },
  {
   "cell_type": "code",
   "execution_count": null,
   "metadata": {
    "collapsed": true
   },
   "outputs": [],
   "source": [
    "#function for returning p-value for t-test\n",
    "def ttest (data, group1, group2, x, y):\n",
    "    #define a temporary slice of the data\n",
    "    temp_df = data[(data[x]==group1) | (data[x]==group2)]\n",
    "    \n",
    "    #Make new column 'x' set as 0 or 1 based on group\n",
    "    temp_df[\"x\"] = 0\n",
    "    temp_df[\"x\"][temp_df[x] == group2] = 1\n",
    "    temp_df[\"y\"] = temp_df[y]\n",
    "    \n",
    "    # y = B0 + B1*x + E\n",
    "    model = minimize(nllike, [1, 1, 1], method = \"Nelder-Mead\", options={'disp': True}, args = temp_df)\n",
    "    \n",
    "    # y = B0 + E\n",
    "    null_model = minimize(nllike_null, [1, 1], method = \"Nelder-Mead\", options={'disp': True}, args = temp_df)\n",
    "    \n",
    "    #Get differences in fit\n",
    "    D = (null_model.fun - model.fun) * 2\n",
    "    \n",
    "    #Use chi3.sf() for returning p-value\n",
    "    p = scipy.stats.chi2.sf(D,1)\n"
   ]
  },
  {
   "cell_type": "markdown",
   "metadata": {},
   "source": [
    "**Finally, we display the output in a nicely formated way.**"
   ]
  },
  {
   "cell_type": "code",
   "execution_count": null,
   "metadata": {
    "collapsed": true
   },
   "outputs": [],
   "source": [
    "#function for returning p-value for t-test\n",
    "def ttest (data, group1, group2, x, y):\n",
    "    #define a temporary slice of the data\n",
    "    temp_df = data[(data[x]==group1) | (data[x]==group2)]\n",
    "    \n",
    "    #Make new column 'x' set as 0 or 1 based on group\n",
    "    temp_df[\"x\"] = 0\n",
    "    temp_df[\"x\"][temp_df[x] == group2] = 1\n",
    "    temp_df[\"y\"] = temp_df[y]\n",
    "    \n",
    "    # y = B0 + B1*x + E\n",
    "    model = minimize(nllike, [1, 1, 1], method = \"Nelder-Mead\", options={'disp': True}, args = temp_df)\n",
    "    \n",
    "    # y = B0 + E\n",
    "    null_model = minimize(nllike_null, [1, 1], method = \"Nelder-Mead\", options={'disp': True}, args = temp_df)\n",
    "    \n",
    "    #Get differences in fit\n",
    "    D = (null_model.fun - model.fun) * 2\n",
    "    \n",
    "    #Use chi3.sf() for returning p-value\n",
    "    p = scipy.stats.chi2.sf(D,1)\n",
    "    \n",
    "    #Print results\n",
    "    print (\"-----------------------------\")\n",
    "    print (group1 + \" vs. \" + group2)\n",
    "    print (\"p-value = \" + str(p))\n",
    "    if p <= 0.05:\n",
    "        print (\"Significance\")\n",
    "    else:\n",
    "        print (\"No significance\")\n",
    "    print (\"-----------------------------\")"
   ]
  },
  {
   "cell_type": "markdown",
   "metadata": {},
   "source": [
    "## Step 4: Run the t-test function!"
   ]
  },
  {
   "cell_type": "code",
   "execution_count": null,
   "metadata": {},
   "outputs": [],
   "source": [
    "#Perform t-tests\n",
    "ttest(data, group1=\"horsebean\", group2=\"casein\", x=\"feed\", y=\"weight\")"
   ]
  },
  {
   "cell_type": "markdown",
   "metadata": {},
   "source": [
    "## Completed code (again)"
   ]
  },
  {
   "cell_type": "code",
   "execution_count": null,
   "metadata": {
    "collapsed": true
   },
   "outputs": [],
   "source": [
    "import pandas\n",
    "import numpy\n",
    "import scipy.stats\n",
    "from scipy.optimize import minimize\n",
    "from plotnine import *\n",
    "\n",
    "data = pandas.read_csv(\"chickwts.txt\")\n",
    "\n",
    "ggplot(data=data) + geom_bar(aes(x='factor(feed)', y='weight'), stat = \"summary\", fun_y = numpy.mean) + theme_classic() + xlab(\"feed type\") + ylab(\"mean weight\")\n",
    "\n",
    "#function for returning negative log likelihood for t-test model\n",
    "def nllike (p, obs):\n",
    "    B0 = p[0]\n",
    "    B1 = p[1]\n",
    "    sigma = p[2]\n",
    "    expected = B0 + B1 * obs.x\n",
    "    nll = -1 * scipy.stats.norm(expected, sigma).logpdf(obs.y).sum()\n",
    "    return nll\n",
    "\n",
    "#function for returning negative log likelihood for null model\n",
    "def nllike_null (p, obs):\n",
    "    B0 = p[0]\n",
    "    sigma = p[1]\n",
    "    expected = B0\n",
    "    nll = -1 * scipy.stats.norm(expected, sigma).logpdf(obs.y).sum()\n",
    "    return nll\n",
    "\n",
    "#function for returning p-value for t-test\n",
    "def ttest (data, group1, group2, x, y):\n",
    "    #define a temporary slice of the data\n",
    "    temp_df = data[(data[x]==group1) | (data[x]==group2)]\n",
    "    \n",
    "    #Make new column 'x' set as 0 or 1 based on group\n",
    "    temp_df[\"x\"] = 0\n",
    "    temp_df[\"x\"][temp_df[x] == group2] = 1\n",
    "    temp_df[\"y\"] = temp_df[y]\n",
    "    \n",
    "    # y = B0 + B1*x + E\n",
    "    model = minimize(nllike, [1, 1, 1], method = \"Nelder-Mead\", options={'disp': True}, args = temp_df)\n",
    "    \n",
    "    # y = B0 + E\n",
    "    null_model = minimize(nllike_null, [1, 1], method = \"Nelder-Mead\", options={'disp': True}, args = temp_df)\n",
    "    \n",
    "    #Get differences in fit\n",
    "    D = (null_model.fun - model.fun) * 2\n",
    "    \n",
    "    #Use chi3.sf() for returning p-value\n",
    "    p = scipy.stats.chi2.sf(D,1)\n",
    "    \n",
    "    #Print results\n",
    "    print (\"-----------------------------\")\n",
    "    print (group1 + \" vs. \" + group2)\n",
    "    print (\"p-value = \" + str(p))\n",
    "    if p <= 0.05:\n",
    "        print (\"Significance\")\n",
    "    else:\n",
    "        print (\"No significance\")\n",
    "    print (\"-----------------------------\")\n",
    "\n",
    "#Perform t-tests\n",
    "ttest(data, group1=\"horsebean\", group2=\"casein\", x=\"feed\", y=\"weight\")"
   ]
  }
 ],
 "metadata": {
  "kernelspec": {
   "display_name": "Python 2",
   "language": "python",
   "name": "python2"
  },
  "language_info": {
   "codemirror_mode": {
    "name": "ipython",
    "version": 2
   },
   "file_extension": ".py",
   "mimetype": "text/x-python",
   "name": "python",
   "nbconvert_exporter": "python",
   "pygments_lexer": "ipython2",
   "version": "2.7.13"
  }
 },
 "nbformat": 4,
 "nbformat_minor": 2
}
