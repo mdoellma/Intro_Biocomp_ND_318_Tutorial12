{
 "cells": [
  {
   "cell_type": "markdown",
   "metadata": {
    "collapsed": true
   },
   "source": [
    "**a.) Military times after noon**"
   ]
  },
  {
   "cell_type": "code",
   "execution_count": 1,
   "metadata": {},
   "outputs": [
    {
     "name": "stdout",
     "output_type": "stream",
     "text": [
      "['15:30', '12:00', '21:54', '14:50', '12:01']\n"
     ]
    }
   ],
   "source": [
    "import numpy\n",
    "import pandas\n",
    "import re\n",
    "\n",
    "Times=['15:30', '12:00', '2:00', '21:54', '01:69', '01:20', '6:00', '30:00', '14:50','12:01']\n",
    "\n",
    "strtimes=' '.join(Times)\n",
    "\n",
    "MT=re.compile('1[0-9]:[0-5][0-9]|2[0-3]:[0-5][0-9]')\n",
    "\n",
    "militarytimes=re.findall(MT,strtimes)\n",
    "print(militarytimes)"
   ]
  },
  {
   "cell_type": "markdown",
   "metadata": {},
   "source": [
    "The regex here is defined as the variable 'MT'. The first half (before the |) describes the situation in which the time begins with a 1 while the second half describes the situation in which the time begins with a 2. Combining these two halfs lets the regex search for all times that include and come after 12:00 without matching any fake times or times before noon."
   ]
  },
  {
   "cell_type": "markdown",
   "metadata": {},
   "source": [
    "**b.) Correctly formatted genus and species**"
   ]
  },
  {
   "cell_type": "code",
   "execution_count": 2,
   "metadata": {},
   "outputs": [
    {
     "name": "stdout",
     "output_type": "stream",
     "text": [
      "['H. sapien', 'D. melanogaster']\n"
     ]
    }
   ],
   "source": [
    "Species=['H. Sapien', 'Homo sapien', 'H. sapien', 'D. melanogaster', 'D. Melanogaster', 'Drosophila melanogaster']\n",
    "\n",
    "strspecies=' '.join(Species)\n",
    "\n",
    "sregex=re.compile('[A-Z]\\. [a-z]+')\n",
    "\n",
    "slist=re.findall(sregex,strspecies)\n",
    "print(slist)"
   ]
  },
  {
   "cell_type": "markdown",
   "metadata": {},
   "source": [
    "The regex, sregex, utilizes the escape character to ensure it searches for a period after the capital letter. The plus next to the \"all lowercase letters\" set ensures that the regex will find any species names (correctly written in all lowercase) no matter how long."
   ]
  },
  {
   "cell_type": "markdown",
   "metadata": {},
   "source": [
    "**c.) Social Security Number**"
   ]
  },
  {
   "cell_type": "code",
   "execution_count": 3,
   "metadata": {},
   "outputs": [
    {
     "name": "stdout",
     "output_type": "stream",
     "text": [
      "['555-55-5555', '123-45-6789']\n"
     ]
    }
   ],
   "source": [
    "socialsecurity=['555-55-5555', '123-45-6789', '55555-55555', '1234567890']\n",
    "\n",
    "strssn=' '.join(socialsecurity)\n",
    "\n",
    "ssnregex=re.compile('[0-9]{3}\\-[0-9]{2}\\-[0-9]{4}')\n",
    "\n",
    "ssnlist=re.findall(ssnregex,strssn)\n",
    "print(ssnlist)"
   ]
  },
  {
   "cell_type": "markdown",
   "metadata": {},
   "source": [
    "The curly brackets in the regex, ssnregex, tell the regex to search for 3 digits in a row, then 2 digits in a row, and finally 4 digits in a row. The escape character forces the regex to search for litteral hyphens instead of some other operator."
   ]
  }
 ],
 "metadata": {
  "kernelspec": {
   "display_name": "Python 3",
   "language": "python",
   "name": "python3"
  },
  "language_info": {
   "codemirror_mode": {
    "name": "ipython",
    "version": 3
   },
   "file_extension": ".py",
   "mimetype": "text/x-python",
   "name": "python",
   "nbconvert_exporter": "python",
   "pygments_lexer": "ipython3",
   "version": "3.6.2"
  }
 },
 "nbformat": 4,
 "nbformat_minor": 2
}
