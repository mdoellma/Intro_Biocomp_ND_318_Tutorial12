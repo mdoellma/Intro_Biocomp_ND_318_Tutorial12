{
 "cells": [
  {
   "cell_type": "code",
   "execution_count": 10,
   "metadata": {},
   "outputs": [
    {
     "data": {
      "text/plain": [
       "('13:01', '14:02', '15:03', '16:07')"
      ]
     },
     "execution_count": 10,
     "metadata": {},
     "output_type": "execute_result"
    }
   ],
   "source": [
    "import re\n",
    "list1 = \"13:01\", \"14:02\", \"15:03\", \"16:07\", \"09:00\", \"10:00\"\n",
    "regex=r\"(13)|(14)|(15)|(16)|(17)|(18)|(19)|(20)|(21)|(22)|(23)\\:[0-9]{2}\"\n",
    "var1=re.compile(regex)\n",
    "filter(var1.match,list1)\n",
    "\n"
   ]
  },
  {
   "cell_type": "markdown",
   "metadata": {},
   "source": [
    "1) First, import your re package.\n",
    "\n",
    "2) Then create a list that you want use to check your regex. Put the time in quotes so that Python doesn't get confused by the colons.\n",
    "\n",
    "3) Name your regex and type it in between quotes proceeded by an r.\n",
    "\n",
    "4) Use re.compile to find exact matches to your regex (begins search at the beginning of a string). Remember to name this dataset.\n",
    "\n",
    "5) Use the filter function to display the times that match the regex from the list."
   ]
  },
  {
   "cell_type": "code",
   "execution_count": 11,
   "metadata": {},
   "outputs": [
    {
     "data": {
      "text/plain": [
       "('H. sapien', 'D. rerio', 'D. melangaster')"
      ]
     },
     "execution_count": 11,
     "metadata": {},
     "output_type": "execute_result"
    }
   ],
   "source": [
    "list2 = 'H. sapien', 'D. rerio', 'Doggo', 'pupper', 'D. melangaster'\n",
    "regex = r\"[A-Z]\\. [a-z]+\"\n",
    "var2 = re.compile (regex)\n",
    "filter(var2.match, list2)"
   ]
  },
  {
   "cell_type": "markdown",
   "metadata": {},
   "source": [
    "1) Create a list\n",
    "\n",
    "2) Create a regex that does the following; A set of squeare brackets indicating a search for one letter between A and Z that is capitalized, followed by a period, a space, and then one or more lower case letters between a and z.\n",
    "\n",
    "3) Use re.compile and the filter functions to search for your regex within your list."
   ]
  },
  {
   "cell_type": "code",
   "execution_count": 12,
   "metadata": {},
   "outputs": [
    {
     "data": {
      "text/plain": [
       "('389-05-4771', '123-45-6789')"
      ]
     },
     "execution_count": 12,
     "metadata": {},
     "output_type": "execute_result"
    }
   ],
   "source": [
    "list3 = '389-05-4771', '234-444-12', '123-45-6789', '1234'\n",
    "regex = r\"[0-9]{3}-[0-9]{2}-[0-9]{4}\"\n",
    "var3 = re.compile (regex)\n",
    "filter(var3.match, list3)"
   ]
  },
  {
   "cell_type": "markdown",
   "metadata": {},
   "source": [
    "Repeat steps 1-5 of the first example except this time your regex should be structured with 0-9 in square brackets followed by the number of instances of those numbers in curly brackets in a way that tells the regex to search for; 3 numbers, followed by a dash, two numbers, followed by a dash, and 4 numbers, followed by a dash."
   ]
  }
 ],
 "metadata": {
  "kernelspec": {
   "display_name": "Python 2",
   "language": "python",
   "name": "python2"
  },
  "language_info": {
   "codemirror_mode": {
    "name": "ipython",
    "version": 2
   },
   "file_extension": ".py",
   "mimetype": "text/x-python",
   "name": "python",
   "nbconvert_exporter": "python",
   "pygments_lexer": "ipython2",
   "version": "2.7.13"
  }
 },
 "nbformat": 4,
 "nbformat_minor": 2
}
